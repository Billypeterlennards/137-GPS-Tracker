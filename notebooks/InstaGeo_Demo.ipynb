{
  "cells": [
    {
      "cell_type": "markdown",
      "id": "4574f053-60d4-419b-88cc-c58d08a8177c",
      "metadata": {
        "id": "4574f053-60d4-419b-88cc-c58d08a8177c"
      },
      "source": [
        "# InstaGeo Demo\n",
        "\n",
        "<a href=\"https://colab.research.google.com/github/instadeepai/InstaGeo-E2E-Geospatial-ML/blob/main/notebooks/InstaGeo_Demo.ipynb\" target=\"_parent\"><img src=\"https://colab.research.google.com/assets/colab-badge.svg\" alt=\"Open In Colab\"/></a>\n",
        "\n",
        "Welcome to the InstaGeo demo notebook! This tutorial showcases the capabilities of InstaGeo, an end-to-end package designed for geospatial machine learning with multispectral data.\n",
        "\n",
        "In this demonstration, we use ground truth geospatial point observations for cropland classification in Rwanda. The notebook will guide you through the process of creating segmentation-like data from these observations, fine-tuning the [Prithvi](https://huggingface.co/ibm-nasa-geospatial/Prithvi-100M) model, and finally visualizing the inference results on an interactive map.\n",
        "\n",
        "By the end of this demo, you will gain hands-on experience with key InstaGeo functionalities and learn how it streamlines geospatial ML workflows from data preparation to model inference."
      ]
    },
    {
      "cell_type": "markdown",
      "id": "380ead2a",
      "metadata": {
        "id": "380ead2a"
      },
      "source": [
        "# Install InstaGeo"
      ]
    },
    {
      "cell_type": "code",
      "execution_count": 1,
      "id": "e550a300",
      "metadata": {
        "colab": {
          "base_uri": "https://localhost:8080/"
        },
        "id": "e550a300",
        "outputId": "276b5fe7-3042-4016-d03f-7786c159708f",
        "tags": []
      },
      "outputs": [
        {
          "output_type": "stream",
          "name": "stdout",
          "text": [
            "Cloning into 'InstaGeo-E2E-Geospatial-ML'...\n",
            "remote: Enumerating objects: 581, done.\u001b[K\n",
            "remote: Counting objects: 100% (400/400), done.\u001b[K\n",
            "remote: Compressing objects: 100% (171/171), done.\u001b[K\n",
            "remote: Total 581 (delta 302), reused 281 (delta 228), pack-reused 181 (from 1)\u001b[K\n",
            "Receiving objects: 100% (581/581), 1.56 MiB | 6.03 MiB/s, done.\n",
            "Resolving deltas: 100% (347/347), done.\n"
          ]
        }
      ],
      "source": [
        "repository_url = \"https://github.com/instadeepai/InstaGeo-E2E-Geospatial-ML\"\n",
        "\n",
        "!git clone {repository_url}"
      ]
    },
    {
      "cell_type": "code",
      "execution_count": 2,
      "id": "9f7e762b",
      "metadata": {
        "colab": {
          "base_uri": "https://localhost:8080/",
          "height": 1000
        },
        "collapsed": true,
        "id": "9f7e762b",
        "jupyter": {
          "outputs_hidden": true
        },
        "outputId": "17c23e0e-3aaf-4d3f-e5fc-e5edef0b6178",
        "tags": []
      },
      "outputs": [
        {
          "output_type": "stream",
          "name": "stdout",
          "text": [
            "/content/InstaGeo-E2E-Geospatial-ML\n",
            "Note: switching to '4797f1590bf4c3a8fa4ca9ed2886f791cea512a4'.\n",
            "\n",
            "You are in 'detached HEAD' state. You can look around, make experimental\n",
            "changes and commit them, and you can discard any commits you make in this\n",
            "state without impacting any branches by switching back to a branch.\n",
            "\n",
            "If you want to create a new branch to retain commits you create, you may\n",
            "do so (now or later) by using -c with the switch command. Example:\n",
            "\n",
            "  git switch -c <new-branch-name>\n",
            "\n",
            "Or undo this operation with:\n",
            "\n",
            "  git switch -\n",
            "\n",
            "Turn off this advice by setting config variable advice.detachedHead to false\n",
            "\n",
            "HEAD is now at 4797f15 fix: fix bug in output_dir\n",
            "Obtaining file:///content/InstaGeo-E2E-Geospatial-ML\n",
            "  Installing build dependencies ... \u001b[?25l\u001b[?25hdone\n",
            "  Checking if build backend supports build_editable ... \u001b[?25l\u001b[?25hdone\n",
            "  Getting requirements to build editable ... \u001b[?25l\u001b[?25hdone\n",
            "  Installing backend dependencies ... \u001b[?25l\u001b[?25hdone\n",
            "  Preparing editable metadata (pyproject.toml) ... \u001b[?25l\u001b[?25hdone\n",
            "Requirement already satisfied: pandas in /usr/local/lib/python3.12/dist-packages (from instageo==0.0.1) (2.2.2)\n",
            "Requirement already satisfied: numpy in /usr/local/lib/python3.12/dist-packages (from instageo==0.0.1) (2.0.2)\n",
            "Requirement already satisfied: xarray[complete] in /usr/local/lib/python3.12/dist-packages (from instageo==0.0.1) (2025.8.0)\n",
            "Collecting rasterio (from instageo==0.0.1)\n",
            "  Downloading rasterio-1.4.3-cp312-cp312-manylinux_2_17_x86_64.manylinux2014_x86_64.whl.metadata (9.1 kB)\n",
            "Collecting rioxarray (from instageo==0.0.1)\n",
            "  Downloading rioxarray-0.19.0-py3-none-any.whl.metadata (5.5 kB)\n",
            "Collecting geopandas==0.14.1 (from instageo==0.0.1)\n",
            "  Downloading geopandas-0.14.1-py3-none-any.whl.metadata (1.5 kB)\n",
            "Requirement already satisfied: shapely in /usr/local/lib/python3.12/dist-packages (from instageo==0.0.1) (2.1.1)\n",
            "Collecting cftime (from instageo==0.0.1)\n",
            "  Downloading cftime-1.6.4.post1-cp312-cp312-manylinux_2_17_x86_64.manylinux2014_x86_64.whl.metadata (8.7 kB)\n",
            "Collecting h5pyd (from instageo==0.0.1)\n",
            "  Downloading h5pyd-0.22.0-py3-none-any.whl.metadata (1.9 kB)\n",
            "Requirement already satisfied: Bottleneck in /usr/local/lib/python3.12/dist-packages (from instageo==0.0.1) (1.4.2)\n",
            "Requirement already satisfied: absl-py in /usr/local/lib/python3.12/dist-packages (from instageo==0.0.1) (1.4.0)\n",
            "Collecting mgrs==1.4.6 (from instageo==0.0.1)\n",
            "  Downloading mgrs-1.4.6-cp312-cp312-manylinux_2_12_x86_64.manylinux2010_x86_64.manylinux_2_17_x86_64.manylinux2014_x86_64.whl.metadata (3.1 kB)\n",
            "Collecting earthaccess==0.12.0 (from instageo==0.0.1)\n",
            "  Downloading earthaccess-0.12.0-py3-none-any.whl.metadata (7.6 kB)\n",
            "Collecting pydantic==2.10.4 (from instageo==0.0.1)\n",
            "  Downloading pydantic-2.10.4-py3-none-any.whl.metadata (29 kB)\n",
            "Collecting pydantic-settings==2.7.0 (from instageo==0.0.1)\n",
            "  Downloading pydantic_settings-2.7.0-py3-none-any.whl.metadata (3.5 kB)\n",
            "Collecting python-dotenv==1.0.1 (from instageo==0.0.1)\n",
            "  Downloading python_dotenv-1.0.1-py3-none-any.whl.metadata (23 kB)\n",
            "Collecting pystac_client==0.8.5 (from instageo==0.0.1)\n",
            "  Downloading pystac_client-0.8.5-py3-none-any.whl.metadata (5.1 kB)\n",
            "Collecting stackstac==0.5.1 (from instageo==0.0.1)\n",
            "  Downloading stackstac-0.5.1-py3-none-any.whl.metadata (8.1 kB)\n",
            "Collecting planetary_computer==1.0.0 (from instageo==0.0.1)\n",
            "  Downloading planetary_computer-1.0.0-py3-none-any.whl.metadata (7.4 kB)\n",
            "Collecting pytorch_lightning (from instageo==0.0.1)\n",
            "  Downloading pytorch_lightning-2.5.3-py3-none-any.whl.metadata (20 kB)\n",
            "Requirement already satisfied: torch in /usr/local/lib/python3.12/dist-packages (from instageo==0.0.1) (2.8.0+cu126)\n",
            "Collecting timm==0.4.12 (from instageo==0.0.1)\n",
            "  Downloading timm-0.4.12-py3-none-any.whl.metadata (30 kB)\n",
            "Requirement already satisfied: einops in /usr/local/lib/python3.12/dist-packages (from instageo==0.0.1) (0.8.1)\n",
            "Requirement already satisfied: tensorboard in /usr/local/lib/python3.12/dist-packages (from instageo==0.0.1) (2.19.0)\n",
            "Collecting hydra-core (from instageo==0.0.1)\n",
            "  Downloading hydra_core-1.3.2-py3-none-any.whl.metadata (5.5 kB)\n",
            "Requirement already satisfied: omegaconf in /usr/local/lib/python3.12/dist-packages (from instageo==0.0.1) (2.3.0)\n",
            "Requirement already satisfied: plotly in /usr/local/lib/python3.12/dist-packages (from instageo==0.0.1) (5.24.1)\n",
            "Collecting datashader==0.16.2 (from instageo==0.0.1)\n",
            "  Downloading datashader-0.16.2-py2.py3-none-any.whl.metadata (13 kB)\n",
            "Collecting dask==2024.12.1 (from instageo==0.0.1)\n",
            "  Downloading dask-2024.12.1-py3-none-any.whl.metadata (3.7 kB)\n",
            "Requirement already satisfied: matplotlib in /usr/local/lib/python3.12/dist-packages (from instageo==0.0.1) (3.10.0)\n",
            "Collecting streamlit==1.31.1 (from instageo==0.0.1)\n",
            "  Downloading streamlit-1.31.1-py2.py3-none-any.whl.metadata (8.1 kB)\n",
            "Requirement already satisfied: scikit-learn in /usr/local/lib/python3.12/dist-packages (from instageo==0.0.1) (1.6.1)\n",
            "Requirement already satisfied: click>=8.1 in /usr/local/lib/python3.12/dist-packages (from dask==2024.12.1->instageo==0.0.1) (8.2.1)\n",
            "Requirement already satisfied: cloudpickle>=3.0.0 in /usr/local/lib/python3.12/dist-packages (from dask==2024.12.1->instageo==0.0.1) (3.1.1)\n",
            "Requirement already satisfied: fsspec>=2021.09.0 in /usr/local/lib/python3.12/dist-packages (from dask==2024.12.1->instageo==0.0.1) (2025.3.0)\n",
            "Requirement already satisfied: packaging>=20.0 in /usr/local/lib/python3.12/dist-packages (from dask==2024.12.1->instageo==0.0.1) (25.0)\n",
            "Requirement already satisfied: partd>=1.4.0 in /usr/local/lib/python3.12/dist-packages (from dask==2024.12.1->instageo==0.0.1) (1.4.2)\n",
            "Requirement already satisfied: pyyaml>=5.3.1 in /usr/local/lib/python3.12/dist-packages (from dask==2024.12.1->instageo==0.0.1) (6.0.2)\n",
            "Requirement already satisfied: toolz>=0.10.0 in /usr/local/lib/python3.12/dist-packages (from dask==2024.12.1->instageo==0.0.1) (0.12.1)\n",
            "Requirement already satisfied: colorcet in /usr/local/lib/python3.12/dist-packages (from datashader==0.16.2->instageo==0.0.1) (3.1.0)\n",
            "Requirement already satisfied: multipledispatch in /usr/local/lib/python3.12/dist-packages (from datashader==0.16.2->instageo==0.0.1) (1.0.0)\n",
            "Requirement already satisfied: numba in /usr/local/lib/python3.12/dist-packages (from datashader==0.16.2->instageo==0.0.1) (0.60.0)\n",
            "Requirement already satisfied: param in /usr/local/lib/python3.12/dist-packages (from datashader==0.16.2->instageo==0.0.1) (2.2.1)\n",
            "Requirement already satisfied: pillow in /usr/local/lib/python3.12/dist-packages (from datashader==0.16.2->instageo==0.0.1) (11.3.0)\n",
            "Collecting pyct (from datashader==0.16.2->instageo==0.0.1)\n",
            "  Downloading pyct-0.5.0-py2.py3-none-any.whl.metadata (7.4 kB)\n",
            "Requirement already satisfied: requests in /usr/local/lib/python3.12/dist-packages (from datashader==0.16.2->instageo==0.0.1) (2.32.3)\n",
            "Requirement already satisfied: scipy in /usr/local/lib/python3.12/dist-packages (from datashader==0.16.2->instageo==0.0.1) (1.16.1)\n",
            "Requirement already satisfied: importlib-resources>=6.3.2 in /usr/local/lib/python3.12/dist-packages (from earthaccess==0.12.0->instageo==0.0.1) (6.5.2)\n",
            "Collecting multimethod>=1.8 (from earthaccess==0.12.0->instageo==0.0.1)\n",
            "  Downloading multimethod-2.0-py3-none-any.whl.metadata (9.2 kB)\n",
            "Collecting pqdm>=0.1 (from earthaccess==0.12.0->instageo==0.0.1)\n",
            "  Downloading pqdm-0.2.0-py2.py3-none-any.whl.metadata (3.2 kB)\n",
            "Collecting python-cmr>=0.10.0 (from earthaccess==0.12.0->instageo==0.0.1)\n",
            "  Downloading python_cmr-0.13.0-py3-none-any.whl.metadata (10 kB)\n",
            "Collecting s3fs>=2022.11 (from earthaccess==0.12.0->instageo==0.0.1)\n",
            "  Downloading s3fs-2025.7.0-py3-none-any.whl.metadata (1.4 kB)\n",
            "Collecting tinynetrc>=1.3.1 (from earthaccess==0.12.0->instageo==0.0.1)\n",
            "  Downloading tinynetrc-1.3.1-py2.py3-none-any.whl.metadata (2.9 kB)\n",
            "Requirement already satisfied: typing-extensions>=4.10.0 in /usr/local/lib/python3.12/dist-packages (from earthaccess==0.12.0->instageo==0.0.1) (4.14.1)\n",
            "Collecting fiona>=1.8.21 (from geopandas==0.14.1->instageo==0.0.1)\n",
            "  Downloading fiona-1.10.1-cp312-cp312-manylinux_2_17_x86_64.manylinux2014_x86_64.whl.metadata (56 kB)\n",
            "\u001b[2K     \u001b[90m━━━━━━━━━━━━━━━━━━━━━━━━━━━━━━━━━━━━━━━━\u001b[0m \u001b[32m56.6/56.6 kB\u001b[0m \u001b[31m4.1 MB/s\u001b[0m eta \u001b[36m0:00:00\u001b[0m\n",
            "\u001b[?25hRequirement already satisfied: pyproj>=3.3.0 in /usr/local/lib/python3.12/dist-packages (from geopandas==0.14.1->instageo==0.0.1) (3.7.2)\n",
            "Collecting pystac>=1.0.0 (from planetary_computer==1.0.0->instageo==0.0.1)\n",
            "  Downloading pystac-1.13.0-py3-none-any.whl.metadata (4.7 kB)\n",
            "Requirement already satisfied: pytz>=2020.5 in /usr/local/lib/python3.12/dist-packages (from planetary_computer==1.0.0->instageo==0.0.1) (2025.2)\n",
            "Requirement already satisfied: annotated-types>=0.6.0 in /usr/local/lib/python3.12/dist-packages (from pydantic==2.10.4->instageo==0.0.1) (0.7.0)\n",
            "Collecting pydantic-core==2.27.2 (from pydantic==2.10.4->instageo==0.0.1)\n",
            "  Downloading pydantic_core-2.27.2-cp312-cp312-manylinux_2_17_x86_64.manylinux2014_x86_64.whl.metadata (6.6 kB)\n",
            "Requirement already satisfied: python-dateutil>=2.8.2 in /usr/local/lib/python3.12/dist-packages (from pystac_client==0.8.5->instageo==0.0.1) (2.9.0.post0)\n",
            "Requirement already satisfied: altair<6,>=4.0 in /usr/local/lib/python3.12/dist-packages (from streamlit==1.31.1->instageo==0.0.1) (5.5.0)\n",
            "Requirement already satisfied: blinker<2,>=1.0.0 in /usr/local/lib/python3.12/dist-packages (from streamlit==1.31.1->instageo==0.0.1) (1.9.0)\n",
            "Requirement already satisfied: cachetools<6,>=4.0 in /usr/local/lib/python3.12/dist-packages (from streamlit==1.31.1->instageo==0.0.1) (5.5.2)\n",
            "Collecting importlib-metadata<8,>=1.4 (from streamlit==1.31.1->instageo==0.0.1)\n",
            "  Downloading importlib_metadata-7.2.1-py3-none-any.whl.metadata (4.6 kB)\n",
            "Collecting numpy (from instageo==0.0.1)\n",
            "  Downloading numpy-1.26.4-cp312-cp312-manylinux_2_17_x86_64.manylinux2014_x86_64.whl.metadata (61 kB)\n",
            "\u001b[2K     \u001b[90m━━━━━━━━━━━━━━━━━━━━━━━━━━━━━━━━━━━━━━━━\u001b[0m \u001b[32m61.0/61.0 kB\u001b[0m \u001b[31m5.0 MB/s\u001b[0m eta \u001b[36m0:00:00\u001b[0m\n",
            "\u001b[?25hCollecting packaging>=20.0 (from dask==2024.12.1->instageo==0.0.1)\n",
            "  Downloading packaging-23.2-py3-none-any.whl.metadata (3.2 kB)\n",
            "Collecting pillow (from datashader==0.16.2->instageo==0.0.1)\n",
            "  Downloading pillow-10.4.0-cp312-cp312-manylinux_2_28_x86_64.whl.metadata (9.2 kB)\n",
            "Collecting protobuf<5,>=3.20 (from streamlit==1.31.1->instageo==0.0.1)\n",
            "  Downloading protobuf-4.25.8-cp37-abi3-manylinux2014_x86_64.whl.metadata (541 bytes)\n",
            "Requirement already satisfied: pyarrow>=7.0 in /usr/local/lib/python3.12/dist-packages (from streamlit==1.31.1->instageo==0.0.1) (18.1.0)\n",
            "Requirement already satisfied: rich<14,>=10.14.0 in /usr/local/lib/python3.12/dist-packages (from streamlit==1.31.1->instageo==0.0.1) (13.9.4)\n",
            "Collecting tenacity<9,>=8.1.0 (from streamlit==1.31.1->instageo==0.0.1)\n",
            "  Downloading tenacity-8.5.0-py3-none-any.whl.metadata (1.2 kB)\n",
            "Requirement already satisfied: toml<2,>=0.10.1 in /usr/local/lib/python3.12/dist-packages (from streamlit==1.31.1->instageo==0.0.1) (0.10.2)\n",
            "Requirement already satisfied: tzlocal<6,>=1.1 in /usr/local/lib/python3.12/dist-packages (from streamlit==1.31.1->instageo==0.0.1) (5.3.1)\n",
            "Collecting validators<1,>=0.2 (from streamlit==1.31.1->instageo==0.0.1)\n",
            "  Downloading validators-0.35.0-py3-none-any.whl.metadata (3.9 kB)\n",
            "Requirement already satisfied: gitpython!=3.1.19,<4,>=3.0.7 in /usr/local/lib/python3.12/dist-packages (from streamlit==1.31.1->instageo==0.0.1) (3.1.45)\n",
            "Collecting pydeck<1,>=0.8.0b4 (from streamlit==1.31.1->instageo==0.0.1)\n",
            "  Downloading pydeck-0.9.1-py2.py3-none-any.whl.metadata (4.1 kB)\n",
            "Requirement already satisfied: tornado<7,>=6.0.3 in /usr/local/lib/python3.12/dist-packages (from streamlit==1.31.1->instageo==0.0.1) (6.4.2)\n",
            "Collecting watchdog>=2.1.5 (from streamlit==1.31.1->instageo==0.0.1)\n",
            "  Downloading watchdog-6.0.0-py3-none-manylinux2014_x86_64.whl.metadata (44 kB)\n",
            "\u001b[2K     \u001b[90m━━━━━━━━━━━━━━━━━━━━━━━━━━━━━━━━━━━━━━━━\u001b[0m \u001b[32m44.3/44.3 kB\u001b[0m \u001b[31m4.5 MB/s\u001b[0m eta \u001b[36m0:00:00\u001b[0m\n",
            "\u001b[?25hRequirement already satisfied: torchvision in /usr/local/lib/python3.12/dist-packages (from timm==0.4.12->instageo==0.0.1) (0.23.0+cu126)\n",
            "Requirement already satisfied: tzdata>=2022.7 in /usr/local/lib/python3.12/dist-packages (from pandas->instageo==0.0.1) (2025.2)\n",
            "Collecting affine (from rasterio->instageo==0.0.1)\n",
            "  Downloading affine-2.4.0-py3-none-any.whl.metadata (4.0 kB)\n",
            "Requirement already satisfied: attrs in /usr/local/lib/python3.12/dist-packages (from rasterio->instageo==0.0.1) (25.3.0)\n",
            "Requirement already satisfied: certifi in /usr/local/lib/python3.12/dist-packages (from rasterio->instageo==0.0.1) (2025.8.3)\n",
            "Collecting cligj>=0.5 (from rasterio->instageo==0.0.1)\n",
            "  Downloading cligj-0.7.2-py3-none-any.whl.metadata (5.0 kB)\n",
            "Collecting click-plugins (from rasterio->instageo==0.0.1)\n",
            "  Downloading click_plugins-1.1.1.2-py2.py3-none-any.whl.metadata (6.5 kB)\n",
            "Requirement already satisfied: pyparsing in /usr/local/lib/python3.12/dist-packages (from rasterio->instageo==0.0.1) (3.2.3)\n",
            "Requirement already satisfied: filelock in /usr/local/lib/python3.12/dist-packages (from torch->instageo==0.0.1) (3.19.1)\n",
            "Requirement already satisfied: setuptools in /usr/local/lib/python3.12/dist-packages (from torch->instageo==0.0.1) (75.2.0)\n",
            "Requirement already satisfied: sympy>=1.13.3 in /usr/local/lib/python3.12/dist-packages (from torch->instageo==0.0.1) (1.13.3)\n",
            "Requirement already satisfied: networkx in /usr/local/lib/python3.12/dist-packages (from torch->instageo==0.0.1) (3.5)\n",
            "Requirement already satisfied: jinja2 in /usr/local/lib/python3.12/dist-packages (from torch->instageo==0.0.1) (3.1.6)\n",
            "Requirement already satisfied: nvidia-cuda-nvrtc-cu12==12.6.77 in /usr/local/lib/python3.12/dist-packages (from torch->instageo==0.0.1) (12.6.77)\n",
            "Requirement already satisfied: nvidia-cuda-runtime-cu12==12.6.77 in /usr/local/lib/python3.12/dist-packages (from torch->instageo==0.0.1) (12.6.77)\n",
            "Requirement already satisfied: nvidia-cuda-cupti-cu12==12.6.80 in /usr/local/lib/python3.12/dist-packages (from torch->instageo==0.0.1) (12.6.80)\n",
            "Requirement already satisfied: nvidia-cudnn-cu12==9.10.2.21 in /usr/local/lib/python3.12/dist-packages (from torch->instageo==0.0.1) (9.10.2.21)\n",
            "Requirement already satisfied: nvidia-cublas-cu12==12.6.4.1 in /usr/local/lib/python3.12/dist-packages (from torch->instageo==0.0.1) (12.6.4.1)\n",
            "Requirement already satisfied: nvidia-cufft-cu12==11.3.0.4 in /usr/local/lib/python3.12/dist-packages (from torch->instageo==0.0.1) (11.3.0.4)\n",
            "Requirement already satisfied: nvidia-curand-cu12==10.3.7.77 in /usr/local/lib/python3.12/dist-packages (from torch->instageo==0.0.1) (10.3.7.77)\n",
            "Requirement already satisfied: nvidia-cusolver-cu12==11.7.1.2 in /usr/local/lib/python3.12/dist-packages (from torch->instageo==0.0.1) (11.7.1.2)\n",
            "Requirement already satisfied: nvidia-cusparse-cu12==12.5.4.2 in /usr/local/lib/python3.12/dist-packages (from torch->instageo==0.0.1) (12.5.4.2)\n",
            "Requirement already satisfied: nvidia-cusparselt-cu12==0.7.1 in /usr/local/lib/python3.12/dist-packages (from torch->instageo==0.0.1) (0.7.1)\n",
            "Requirement already satisfied: nvidia-nccl-cu12==2.27.3 in /usr/local/lib/python3.12/dist-packages (from torch->instageo==0.0.1) (2.27.3)\n",
            "Requirement already satisfied: nvidia-nvtx-cu12==12.6.77 in /usr/local/lib/python3.12/dist-packages (from torch->instageo==0.0.1) (12.6.77)\n",
            "Requirement already satisfied: nvidia-nvjitlink-cu12==12.6.85 in /usr/local/lib/python3.12/dist-packages (from torch->instageo==0.0.1) (12.6.85)\n",
            "Requirement already satisfied: nvidia-cufile-cu12==1.11.1.6 in /usr/local/lib/python3.12/dist-packages (from torch->instageo==0.0.1) (1.11.1.6)\n",
            "Requirement already satisfied: triton==3.4.0 in /usr/local/lib/python3.12/dist-packages (from torch->instageo==0.0.1) (3.4.0)\n",
            "INFO: pip is looking at multiple versions of h5pyd to determine which version is compatible with other requirements. This could take a while.\n",
            "Collecting h5pyd (from instageo==0.0.1)\n",
            "  Downloading h5pyd-0.21.0-py3-none-any.whl.metadata (1.9 kB)\n",
            "  Downloading h5pyd-0.20.0-py3-none-any.whl.metadata (1.9 kB)\n",
            "  Downloading h5pyd-0.19.0-py3-none-any.whl.metadata (1.9 kB)\n",
            "  Downloading h5pyd-0.18.0.tar.gz (139 kB)\n",
            "\u001b[2K     \u001b[90m━━━━━━━━━━━━━━━━━━━━━━━━━━━━━━━━━━━━━━━\u001b[0m \u001b[32m139.8/139.8 kB\u001b[0m \u001b[31m5.8 MB/s\u001b[0m eta \u001b[36m0:00:00\u001b[0m\n",
            "\u001b[?25h  Preparing metadata (setup.py) ... \u001b[?25l\u001b[?25hdone\n",
            "Collecting requests_unixsocket (from h5pyd->instageo==0.0.1)\n",
            "  Downloading requests_unixsocket-0.4.1-py3-none-any.whl.metadata (3.8 kB)\n",
            "Requirement already satisfied: pyjwt in /usr/local/lib/python3.12/dist-packages (from h5pyd->instageo==0.0.1) (2.10.1)\n",
            "Requirement already satisfied: antlr4-python3-runtime==4.9.* in /usr/local/lib/python3.12/dist-packages (from hydra-core->instageo==0.0.1) (4.9.3)\n",
            "Requirement already satisfied: contourpy>=1.0.1 in /usr/local/lib/python3.12/dist-packages (from matplotlib->instageo==0.0.1) (1.3.3)\n",
            "Requirement already satisfied: cycler>=0.10 in /usr/local/lib/python3.12/dist-packages (from matplotlib->instageo==0.0.1) (0.12.1)\n",
            "Requirement already satisfied: fonttools>=4.22.0 in /usr/local/lib/python3.12/dist-packages (from matplotlib->instageo==0.0.1) (4.59.1)\n",
            "Requirement already satisfied: kiwisolver>=1.3.1 in /usr/local/lib/python3.12/dist-packages (from matplotlib->instageo==0.0.1) (1.4.9)\n",
            "Requirement already satisfied: tqdm>=4.57.0 in /usr/local/lib/python3.12/dist-packages (from pytorch_lightning->instageo==0.0.1) (4.67.1)\n",
            "Collecting torchmetrics>0.7.0 (from pytorch_lightning->instageo==0.0.1)\n",
            "  Downloading torchmetrics-1.8.1-py3-none-any.whl.metadata (22 kB)\n",
            "Collecting lightning-utilities>=0.10.0 (from pytorch_lightning->instageo==0.0.1)\n",
            "  Downloading lightning_utilities-0.15.2-py3-none-any.whl.metadata (5.7 kB)\n",
            "Requirement already satisfied: joblib>=1.2.0 in /usr/local/lib/python3.12/dist-packages (from scikit-learn->instageo==0.0.1) (1.5.1)\n",
            "Requirement already satisfied: threadpoolctl>=3.1.0 in /usr/local/lib/python3.12/dist-packages (from scikit-learn->instageo==0.0.1) (3.6.0)\n",
            "Requirement already satisfied: grpcio>=1.48.2 in /usr/local/lib/python3.12/dist-packages (from tensorboard->instageo==0.0.1) (1.74.0)\n",
            "Requirement already satisfied: markdown>=2.6.8 in /usr/local/lib/python3.12/dist-packages (from tensorboard->instageo==0.0.1) (3.8.2)\n",
            "Requirement already satisfied: six>1.9 in /usr/local/lib/python3.12/dist-packages (from tensorboard->instageo==0.0.1) (1.17.0)\n",
            "Requirement already satisfied: tensorboard-data-server<0.8.0,>=0.7.0 in /usr/local/lib/python3.12/dist-packages (from tensorboard->instageo==0.0.1) (0.7.2)\n",
            "Requirement already satisfied: werkzeug>=1.0.1 in /usr/local/lib/python3.12/dist-packages (from tensorboard->instageo==0.0.1) (3.1.3)\n",
            "INFO: pip is looking at multiple versions of xarray[complete] to determine which version is compatible with other requirements. This could take a while.\n",
            "Collecting xarray[complete] (from instageo==0.0.1)\n",
            "  Downloading xarray-2025.7.1-py3-none-any.whl.metadata (12 kB)\n",
            "  Downloading xarray-2025.7.0-py3-none-any.whl.metadata (12 kB)\n",
            "  Downloading xarray-2025.6.1-py3-none-any.whl.metadata (12 kB)\n",
            "Requirement already satisfied: jsonschema>=3.0 in /usr/local/lib/python3.12/dist-packages (from altair<6,>=4.0->streamlit==1.31.1->instageo==0.0.1) (4.25.0)\n",
            "Requirement already satisfied: narwhals>=1.14.2 in /usr/local/lib/python3.12/dist-packages (from altair<6,>=4.0->streamlit==1.31.1->instageo==0.0.1) (2.1.1)\n",
            "Requirement already satisfied: aiohttp!=4.0.0a0,!=4.0.0a1 in /usr/local/lib/python3.12/dist-packages (from fsspec[http]>=2022.5.0->pytorch_lightning->instageo==0.0.1) (3.12.15)\n",
            "Requirement already satisfied: gitdb<5,>=4.0.1 in /usr/local/lib/python3.12/dist-packages (from gitpython!=3.1.19,<4,>=3.0.7->streamlit==1.31.1->instageo==0.0.1) (4.0.12)\n",
            "Requirement already satisfied: zipp>=0.5 in /usr/local/lib/python3.12/dist-packages (from importlib-metadata<8,>=1.4->streamlit==1.31.1->instageo==0.0.1) (3.23.0)\n",
            "Requirement already satisfied: locket in /usr/local/lib/python3.12/dist-packages (from partd>=1.4.0->dask==2024.12.1->instageo==0.0.1) (1.0.0)\n",
            "Collecting bounded-pool-executor (from pqdm>=0.1->earthaccess==0.12.0->instageo==0.0.1)\n",
            "  Downloading bounded_pool_executor-0.0.3-py3-none-any.whl.metadata (2.7 kB)\n",
            "Requirement already satisfied: MarkupSafe>=2.0 in /usr/local/lib/python3.12/dist-packages (from jinja2->torch->instageo==0.0.1) (3.0.2)\n",
            "Requirement already satisfied: charset-normalizer<4,>=2 in /usr/local/lib/python3.12/dist-packages (from requests->datashader==0.16.2->instageo==0.0.1) (3.4.3)\n",
            "Requirement already satisfied: idna<4,>=2.5 in /usr/local/lib/python3.12/dist-packages (from requests->datashader==0.16.2->instageo==0.0.1) (3.10)\n",
            "Requirement already satisfied: urllib3<3,>=1.21.1 in /usr/local/lib/python3.12/dist-packages (from requests->datashader==0.16.2->instageo==0.0.1) (2.5.0)\n",
            "Requirement already satisfied: markdown-it-py>=2.2.0 in /usr/local/lib/python3.12/dist-packages (from rich<14,>=10.14.0->streamlit==1.31.1->instageo==0.0.1) (4.0.0)\n",
            "Requirement already satisfied: pygments<3.0.0,>=2.13.0 in /usr/local/lib/python3.12/dist-packages (from rich<14,>=10.14.0->streamlit==1.31.1->instageo==0.0.1) (2.19.2)\n",
            "Collecting aiobotocore<3.0.0,>=2.5.4 (from s3fs>=2022.11->earthaccess==0.12.0->instageo==0.0.1)\n",
            "  Downloading aiobotocore-2.24.1-py3-none-any.whl.metadata (25 kB)\n",
            "INFO: pip is looking at multiple versions of s3fs to determine which version is compatible with other requirements. This could take a while.\n",
            "Collecting s3fs>=2022.11 (from earthaccess==0.12.0->instageo==0.0.1)\n",
            "  Downloading s3fs-2025.5.1-py3-none-any.whl.metadata (1.9 kB)\n",
            "  Downloading s3fs-2025.5.0-py3-none-any.whl.metadata (1.9 kB)\n",
            "  Downloading s3fs-2025.3.2-py3-none-any.whl.metadata (1.9 kB)\n",
            "  Downloading s3fs-2025.3.1-py3-none-any.whl.metadata (1.9 kB)\n",
            "  Downloading s3fs-2025.3.0-py3-none-any.whl.metadata (1.9 kB)\n",
            "Requirement already satisfied: mpmath<1.4,>=1.1.0 in /usr/local/lib/python3.12/dist-packages (from sympy>=1.13.3->torch->instageo==0.0.1) (1.3.0)\n",
            "Requirement already satisfied: llvmlite<0.44,>=0.43.0dev0 in /usr/local/lib/python3.12/dist-packages (from numba->datashader==0.16.2->instageo==0.0.1) (0.43.0)\n",
            "Collecting numbagg (from xarray[complete]->instageo==0.0.1)\n",
            "  Downloading numbagg-0.9.0-py3-none-any.whl.metadata (48 kB)\n",
            "\u001b[2K     \u001b[90m━━━━━━━━━━━━━━━━━━━━━━━━━━━━━━━━━━━━━━━━\u001b[0m \u001b[32m48.8/48.8 kB\u001b[0m \u001b[31m3.9 MB/s\u001b[0m eta \u001b[36m0:00:00\u001b[0m\n",
            "\u001b[?25hCollecting flox (from xarray[complete]->instageo==0.0.1)\n",
            "  Downloading flox-0.10.6-py3-none-any.whl.metadata (18 kB)\n",
            "Requirement already satisfied: opt_einsum in /usr/local/lib/python3.12/dist-packages (from xarray[complete]->instageo==0.0.1) (3.4.0)\n",
            "Collecting netCDF4 (from xarray[complete]->instageo==0.0.1)\n",
            "  Downloading netCDF4-1.7.2-cp312-cp312-manylinux_2_17_x86_64.manylinux2014_x86_64.whl.metadata (1.8 kB)\n",
            "Requirement already satisfied: h5netcdf in /usr/local/lib/python3.12/dist-packages (from xarray[complete]->instageo==0.0.1) (1.6.4)\n",
            "Collecting zarr (from xarray[complete]->instageo==0.0.1)\n",
            "  Downloading zarr-3.1.1-py3-none-any.whl.metadata (10 kB)\n",
            "Requirement already satisfied: pooch in /usr/local/lib/python3.12/dist-packages (from xarray[complete]->instageo==0.0.1) (1.8.2)\n",
            "Collecting sparse (from xarray[complete]->instageo==0.0.1)\n",
            "  Downloading sparse-0.17.0-py2.py3-none-any.whl.metadata (5.3 kB)\n",
            "Collecting cartopy (from xarray[complete]->instageo==0.0.1)\n",
            "  Downloading cartopy-0.25.0-cp312-cp312-manylinux_2_24_x86_64.manylinux_2_28_x86_64.whl.metadata (6.1 kB)\n",
            "Collecting nc-time-axis (from xarray[complete]->instageo==0.0.1)\n",
            "  Downloading nc_time_axis-1.4.1-py3-none-any.whl.metadata (4.7 kB)\n",
            "Requirement already satisfied: seaborn in /usr/local/lib/python3.12/dist-packages (from xarray[complete]->instageo==0.0.1) (0.13.2)\n",
            "Collecting aioitertools<1.0.0,>=0.5.1 (from aiobotocore<3.0.0,>=2.5.4->s3fs>=2022.11->earthaccess==0.12.0->instageo==0.0.1)\n",
            "  Downloading aioitertools-0.12.0-py3-none-any.whl.metadata (3.8 kB)\n",
            "Collecting botocore<1.39.12,>=1.39.9 (from aiobotocore<3.0.0,>=2.5.4->s3fs>=2022.11->earthaccess==0.12.0->instageo==0.0.1)\n",
            "  Downloading botocore-1.39.11-py3-none-any.whl.metadata (5.7 kB)\n",
            "Collecting jmespath<2.0.0,>=0.7.1 (from aiobotocore<3.0.0,>=2.5.4->s3fs>=2022.11->earthaccess==0.12.0->instageo==0.0.1)\n",
            "  Downloading jmespath-1.0.1-py3-none-any.whl.metadata (7.6 kB)\n",
            "Requirement already satisfied: multidict<7.0.0,>=6.0.0 in /usr/local/lib/python3.12/dist-packages (from aiobotocore<3.0.0,>=2.5.4->s3fs>=2022.11->earthaccess==0.12.0->instageo==0.0.1) (6.6.4)\n",
            "Requirement already satisfied: wrapt<2.0.0,>=1.10.10 in /usr/local/lib/python3.12/dist-packages (from aiobotocore<3.0.0,>=2.5.4->s3fs>=2022.11->earthaccess==0.12.0->instageo==0.0.1) (1.17.3)\n",
            "Requirement already satisfied: aiohappyeyeballs>=2.5.0 in /usr/local/lib/python3.12/dist-packages (from aiohttp!=4.0.0a0,!=4.0.0a1->fsspec[http]>=2022.5.0->pytorch_lightning->instageo==0.0.1) (2.6.1)\n",
            "Requirement already satisfied: aiosignal>=1.4.0 in /usr/local/lib/python3.12/dist-packages (from aiohttp!=4.0.0a0,!=4.0.0a1->fsspec[http]>=2022.5.0->pytorch_lightning->instageo==0.0.1) (1.4.0)\n",
            "Requirement already satisfied: frozenlist>=1.1.1 in /usr/local/lib/python3.12/dist-packages (from aiohttp!=4.0.0a0,!=4.0.0a1->fsspec[http]>=2022.5.0->pytorch_lightning->instageo==0.0.1) (1.7.0)\n",
            "Requirement already satisfied: propcache>=0.2.0 in /usr/local/lib/python3.12/dist-packages (from aiohttp!=4.0.0a0,!=4.0.0a1->fsspec[http]>=2022.5.0->pytorch_lightning->instageo==0.0.1) (0.3.2)\n",
            "Requirement already satisfied: yarl<2.0,>=1.17.0 in /usr/local/lib/python3.12/dist-packages (from aiohttp!=4.0.0a0,!=4.0.0a1->fsspec[http]>=2022.5.0->pytorch_lightning->instageo==0.0.1) (1.20.1)\n",
            "Requirement already satisfied: smmap<6,>=3.0.1 in /usr/local/lib/python3.12/dist-packages (from gitdb<5,>=4.0.1->gitpython!=3.1.19,<4,>=3.0.7->streamlit==1.31.1->instageo==0.0.1) (5.0.2)\n",
            "Requirement already satisfied: jsonschema-specifications>=2023.03.6 in /usr/local/lib/python3.12/dist-packages (from jsonschema>=3.0->altair<6,>=4.0->streamlit==1.31.1->instageo==0.0.1) (2025.4.1)\n",
            "Requirement already satisfied: referencing>=0.28.4 in /usr/local/lib/python3.12/dist-packages (from jsonschema>=3.0->altair<6,>=4.0->streamlit==1.31.1->instageo==0.0.1) (0.36.2)\n",
            "Requirement already satisfied: rpds-py>=0.7.1 in /usr/local/lib/python3.12/dist-packages (from jsonschema>=3.0->altair<6,>=4.0->streamlit==1.31.1->instageo==0.0.1) (0.27.0)\n",
            "Requirement already satisfied: mdurl~=0.1 in /usr/local/lib/python3.12/dist-packages (from markdown-it-py>=2.2.0->rich<14,>=10.14.0->streamlit==1.31.1->instageo==0.0.1) (0.1.2)\n",
            "Requirement already satisfied: pyshp>=2.3 in /usr/local/lib/python3.12/dist-packages (from cartopy->xarray[complete]->instageo==0.0.1) (2.3.1)\n",
            "Collecting lz4>=4.3.2 (from dask==2024.12.1->instageo==0.0.1)\n",
            "  Downloading lz4-4.4.4-cp312-cp312-manylinux_2_17_x86_64.manylinux2014_x86_64.whl.metadata (3.8 kB)\n",
            "Collecting numpy_groupies>=0.9.19 (from flox->xarray[complete]->instageo==0.0.1)\n",
            "  Downloading numpy_groupies-0.11.3-py3-none-any.whl.metadata (18 kB)\n",
            "Requirement already satisfied: h5py in /usr/local/lib/python3.12/dist-packages (from h5netcdf->xarray[complete]->instageo==0.0.1) (3.14.0)\n",
            "Requirement already satisfied: platformdirs>=2.5.0 in /usr/local/lib/python3.12/dist-packages (from pooch->xarray[complete]->instageo==0.0.1) (4.3.8)\n",
            "Collecting donfig>=0.8 (from zarr->xarray[complete]->instageo==0.0.1)\n",
            "  Downloading donfig-0.8.1.post1-py3-none-any.whl.metadata (5.0 kB)\n",
            "Collecting numcodecs>=0.14 (from numcodecs[crc32c]>=0.14->zarr->xarray[complete]->instageo==0.0.1)\n",
            "  Downloading numcodecs-0.16.2-cp312-cp312-manylinux_2_17_x86_64.manylinux2014_x86_64.whl.metadata (3.3 kB)\n",
            "Collecting crc32c>=2.7 (from numcodecs[crc32c]>=0.14->zarr->xarray[complete]->instageo==0.0.1)\n",
            "  Downloading crc32c-2.7.1-cp312-cp312-manylinux_2_5_x86_64.manylinux1_x86_64.manylinux_2_17_x86_64.manylinux2014_x86_64.whl.metadata (7.3 kB)\n",
            "Collecting dask-expr<1.2,>=1.1 (from dask==2024.12.1->instageo==0.0.1)\n",
            "  Downloading dask_expr-1.1.21-py3-none-any.whl.metadata (2.6 kB)\n",
            "Collecting distributed==2024.12.1 (from dask==2024.12.1->instageo==0.0.1)\n",
            "  Downloading distributed-2024.12.1-py3-none-any.whl.metadata (3.3 kB)\n",
            "Requirement already satisfied: bokeh>=3.1.0 in /usr/local/lib/python3.12/dist-packages (from dask==2024.12.1->instageo==0.0.1) (3.7.3)\n",
            "Requirement already satisfied: msgpack>=1.0.2 in /usr/local/lib/python3.12/dist-packages (from distributed==2024.12.1->dask==2024.12.1->instageo==0.0.1) (1.1.1)\n",
            "Requirement already satisfied: psutil>=5.8.0 in /usr/local/lib/python3.12/dist-packages (from distributed==2024.12.1->dask==2024.12.1->instageo==0.0.1) (5.9.5)\n",
            "Requirement already satisfied: sortedcontainers>=2.0.5 in /usr/local/lib/python3.12/dist-packages (from distributed==2024.12.1->dask==2024.12.1->instageo==0.0.1) (2.4.0)\n",
            "Requirement already satisfied: tblib>=1.6.0 in /usr/local/lib/python3.12/dist-packages (from distributed==2024.12.1->dask==2024.12.1->instageo==0.0.1) (3.1.0)\n",
            "Requirement already satisfied: zict>=3.0.0 in /usr/local/lib/python3.12/dist-packages (from distributed==2024.12.1->dask==2024.12.1->instageo==0.0.1) (3.0.0)\n",
            "Requirement already satisfied: xyzservices>=2021.09.1 in /usr/local/lib/python3.12/dist-packages (from bokeh>=3.1.0->dask==2024.12.1->instageo==0.0.1) (2025.4.0)\n",
            "Downloading dask-2024.12.1-py3-none-any.whl (1.3 MB)\n",
            "\u001b[2K   \u001b[90m━━━━━━━━━━━━━━━━━━━━━━━━━━━━━━━━━━━━━━━━\u001b[0m \u001b[32m1.3/1.3 MB\u001b[0m \u001b[31m31.5 MB/s\u001b[0m eta \u001b[36m0:00:00\u001b[0m\n",
            "\u001b[?25hDownloading datashader-0.16.2-py2.py3-none-any.whl (18.3 MB)\n",
            "\u001b[2K   \u001b[90m━━━━━━━━━━━━━━━━━━━━━━━━━━━━━━━━━━━━━━━━\u001b[0m \u001b[32m18.3/18.3 MB\u001b[0m \u001b[31m63.7 MB/s\u001b[0m eta \u001b[36m0:00:00\u001b[0m\n",
            "\u001b[?25hDownloading earthaccess-0.12.0-py3-none-any.whl (60 kB)\n",
            "\u001b[2K   \u001b[90m━━━━━━━━━━━━━━━━━━━━━━━━━━━━━━━━━━━━━━━━\u001b[0m \u001b[32m60.5/60.5 kB\u001b[0m \u001b[31m5.7 MB/s\u001b[0m eta \u001b[36m0:00:00\u001b[0m\n",
            "\u001b[?25hDownloading geopandas-0.14.1-py3-none-any.whl (1.1 MB)\n",
            "\u001b[2K   \u001b[90m━━━━━━━━━━━━━━━━━━━━━━━━━━━━━━━━━━━━━━━━\u001b[0m \u001b[32m1.1/1.1 MB\u001b[0m \u001b[31m42.4 MB/s\u001b[0m eta \u001b[36m0:00:00\u001b[0m\n",
            "\u001b[?25hDownloading mgrs-1.4.6-cp312-cp312-manylinux_2_12_x86_64.manylinux2010_x86_64.manylinux_2_17_x86_64.manylinux2014_x86_64.whl (52 kB)\n",
            "\u001b[2K   \u001b[90m━━━━━━━━━━━━━━━━━━━━━━━━━━━━━━━━━━━━━━━━\u001b[0m \u001b[32m52.9/52.9 kB\u001b[0m \u001b[31m4.7 MB/s\u001b[0m eta \u001b[36m0:00:00\u001b[0m\n",
            "\u001b[?25hDownloading planetary_computer-1.0.0-py3-none-any.whl (14 kB)\n",
            "Downloading pydantic-2.10.4-py3-none-any.whl (431 kB)\n",
            "\u001b[2K   \u001b[90m━━━━━━━━━━━━━━━━━━━━━━━━━━━━━━━━━━━━━━━━\u001b[0m \u001b[32m431.8/431.8 kB\u001b[0m \u001b[31m24.2 MB/s\u001b[0m eta \u001b[36m0:00:00\u001b[0m\n",
            "\u001b[?25hDownloading pydantic_settings-2.7.0-py3-none-any.whl (29 kB)\n",
            "Downloading pystac_client-0.8.5-py3-none-any.whl (41 kB)\n",
            "\u001b[2K   \u001b[90m━━━━━━━━━━━━━━━━━━━━━━━━━━━━━━━━━━━━━━━━\u001b[0m \u001b[32m41.9/41.9 kB\u001b[0m \u001b[31m2.3 MB/s\u001b[0m eta \u001b[36m0:00:00\u001b[0m\n",
            "\u001b[?25hDownloading python_dotenv-1.0.1-py3-none-any.whl (19 kB)\n",
            "Downloading stackstac-0.5.1-py3-none-any.whl (64 kB)\n",
            "\u001b[2K   \u001b[90m━━━━━━━━━━━━━━━━━━━━━━━━━━━━━━━━━━━━━━━━\u001b[0m \u001b[32m64.3/64.3 kB\u001b[0m \u001b[31m4.5 MB/s\u001b[0m eta \u001b[36m0:00:00\u001b[0m\n",
            "\u001b[?25hDownloading streamlit-1.31.1-py2.py3-none-any.whl (8.4 MB)\n",
            "\u001b[2K   \u001b[90m━━━━━━━━━━━━━━━━━━━━━━━━━━━━━━━━━━━━━━━━\u001b[0m \u001b[32m8.4/8.4 MB\u001b[0m \u001b[31m81.7 MB/s\u001b[0m eta \u001b[36m0:00:00\u001b[0m\n",
            "\u001b[?25hDownloading timm-0.4.12-py3-none-any.whl (376 kB)\n",
            "\u001b[2K   \u001b[90m━━━━━━━━━━━━━━━━━━━━━━━━━━━━━━━━━━━━━━━━\u001b[0m \u001b[32m377.0/377.0 kB\u001b[0m \u001b[31m31.4 MB/s\u001b[0m eta \u001b[36m0:00:00\u001b[0m\n",
            "\u001b[?25hDownloading pydantic_core-2.27.2-cp312-cp312-manylinux_2_17_x86_64.manylinux2014_x86_64.whl (2.0 MB)\n",
            "\u001b[2K   \u001b[90m━━━━━━━━━━━━━━━━━━━━━━━━━━━━━━━━━━━━━━━━\u001b[0m \u001b[32m2.0/2.0 MB\u001b[0m \u001b[31m66.5 MB/s\u001b[0m eta \u001b[36m0:00:00\u001b[0m\n",
            "\u001b[?25hDownloading numpy-1.26.4-cp312-cp312-manylinux_2_17_x86_64.manylinux2014_x86_64.whl (18.0 MB)\n",
            "\u001b[2K   \u001b[90m━━━━━━━━━━━━━━━━━━━━━━━━━━━━━━━━━━━━━━━━\u001b[0m \u001b[32m18.0/18.0 MB\u001b[0m \u001b[31m20.6 MB/s\u001b[0m eta \u001b[36m0:00:00\u001b[0m\n",
            "\u001b[?25hDownloading rasterio-1.4.3-cp312-cp312-manylinux_2_17_x86_64.manylinux2014_x86_64.whl (22.3 MB)\n",
            "\u001b[2K   \u001b[90m━━━━━━━━━━━━━━━━━━━━━━━━━━━━━━━━━━━━━━━━\u001b[0m \u001b[32m22.3/22.3 MB\u001b[0m \u001b[31m23.7 MB/s\u001b[0m eta \u001b[36m0:00:00\u001b[0m\n",
            "\u001b[?25hDownloading cftime-1.6.4.post1-cp312-cp312-manylinux_2_17_x86_64.manylinux2014_x86_64.whl (1.4 MB)\n",
            "\u001b[2K   \u001b[90m━━━━━━━━━━━━━━━━━━━━━━━━━━━━━━━━━━━━━━━━\u001b[0m \u001b[32m1.4/1.4 MB\u001b[0m \u001b[31m59.6 MB/s\u001b[0m eta \u001b[36m0:00:00\u001b[0m\n",
            "\u001b[?25hDownloading hydra_core-1.3.2-py3-none-any.whl (154 kB)\n",
            "\u001b[2K   \u001b[90m━━━━━━━━━━━━━━━━━━━━━━━━━━━━━━━━━━━━━━━━\u001b[0m \u001b[32m154.5/154.5 kB\u001b[0m \u001b[31m12.6 MB/s\u001b[0m eta \u001b[36m0:00:00\u001b[0m\n",
            "\u001b[?25hDownloading pytorch_lightning-2.5.3-py3-none-any.whl (828 kB)\n",
            "\u001b[2K   \u001b[90m━━━━━━━━━━━━━━━━━━━━━━━━━━━━━━━━━━━━━━━━\u001b[0m \u001b[32m828.2/828.2 kB\u001b[0m \u001b[31m45.2 MB/s\u001b[0m eta \u001b[36m0:00:00\u001b[0m\n",
            "\u001b[?25hDownloading rioxarray-0.19.0-py3-none-any.whl (62 kB)\n",
            "\u001b[2K   \u001b[90m━━━━━━━━━━━━━━━━━━━━━━━━━━━━━━━━━━━━━━━━\u001b[0m \u001b[32m62.2/62.2 kB\u001b[0m \u001b[31m5.9 MB/s\u001b[0m eta \u001b[36m0:00:00\u001b[0m\n",
            "\u001b[?25hDownloading cligj-0.7.2-py3-none-any.whl (7.1 kB)\n",
            "Downloading fiona-1.10.1-cp312-cp312-manylinux_2_17_x86_64.manylinux2014_x86_64.whl (17.2 MB)\n",
            "\u001b[2K   \u001b[90m━━━━━━━━━━━━━━━━━━━━━━━━━━━━━━━━━━━━━━━━\u001b[0m \u001b[32m17.2/17.2 MB\u001b[0m \u001b[31m91.7 MB/s\u001b[0m eta \u001b[36m0:00:00\u001b[0m\n",
            "\u001b[?25hDownloading click_plugins-1.1.1.2-py2.py3-none-any.whl (11 kB)\n",
            "Downloading importlib_metadata-7.2.1-py3-none-any.whl (25 kB)\n",
            "Downloading lightning_utilities-0.15.2-py3-none-any.whl (29 kB)\n",
            "Downloading multimethod-2.0-py3-none-any.whl (9.8 kB)\n",
            "Downloading packaging-23.2-py3-none-any.whl (53 kB)\n",
            "\u001b[2K   \u001b[90m━━━━━━━━━━━━━━━━━━━━━━━━━━━━━━━━━━━━━━━━\u001b[0m \u001b[32m53.0/53.0 kB\u001b[0m \u001b[31m4.1 MB/s\u001b[0m eta \u001b[36m0:00:00\u001b[0m\n",
            "\u001b[?25hDownloading pillow-10.4.0-cp312-cp312-manylinux_2_28_x86_64.whl (4.5 MB)\n",
            "\u001b[2K   \u001b[90m━━━━━━━━━━━━━━━━━━━━━━━━━━━━━━━━━━━━━━━━\u001b[0m \u001b[32m4.5/4.5 MB\u001b[0m \u001b[31m100.2 MB/s\u001b[0m eta \u001b[36m0:00:00\u001b[0m\n",
            "\u001b[?25hDownloading pqdm-0.2.0-py2.py3-none-any.whl (6.8 kB)\n",
            "Downloading protobuf-4.25.8-cp37-abi3-manylinux2014_x86_64.whl (294 kB)\n",
            "\u001b[2K   \u001b[90m━━━━━━━━━━━━━━━━━━━━━━━━━━━━━━━━━━━━━━━━\u001b[0m \u001b[32m294.9/294.9 kB\u001b[0m \u001b[31m23.8 MB/s\u001b[0m eta \u001b[36m0:00:00\u001b[0m\n",
            "\u001b[?25hDownloading pydeck-0.9.1-py2.py3-none-any.whl (6.9 MB)\n",
            "\u001b[2K   \u001b[90m━━━━━━━━━━━━━━━━━━━━━━━━━━━━━━━━━━━━━━━━\u001b[0m \u001b[32m6.9/6.9 MB\u001b[0m \u001b[31m120.1 MB/s\u001b[0m eta \u001b[36m0:00:00\u001b[0m\n",
            "\u001b[?25hDownloading pystac-1.13.0-py3-none-any.whl (206 kB)\n",
            "\u001b[2K   \u001b[90m━━━━━━━━━━━━━━━━━━━━━━━━━━━━━━━━━━━━━━━━\u001b[0m \u001b[32m206.8/206.8 kB\u001b[0m \u001b[31m17.5 MB/s\u001b[0m eta \u001b[36m0:00:00\u001b[0m\n",
            "\u001b[?25hDownloading python_cmr-0.13.0-py3-none-any.whl (14 kB)\n",
            "Downloading s3fs-2025.3.0-py3-none-any.whl (30 kB)\n",
            "Downloading tenacity-8.5.0-py3-none-any.whl (28 kB)\n",
            "Downloading tinynetrc-1.3.1-py2.py3-none-any.whl (3.9 kB)\n",
            "Downloading torchmetrics-1.8.1-py3-none-any.whl (982 kB)\n",
            "\u001b[2K   \u001b[90m━━━━━━━━━━━━━━━━━━━━━━━━━━━━━━━━━━━━━━━━\u001b[0m \u001b[32m983.0/983.0 kB\u001b[0m \u001b[31m60.5 MB/s\u001b[0m eta \u001b[36m0:00:00\u001b[0m\n",
            "\u001b[?25hDownloading validators-0.35.0-py3-none-any.whl (44 kB)\n",
            "\u001b[2K   \u001b[90m━━━━━━━━━━━━━━━━━━━━━━━━━━━━━━━━━━━━━━━━\u001b[0m \u001b[32m44.7/44.7 kB\u001b[0m \u001b[31m3.5 MB/s\u001b[0m eta \u001b[36m0:00:00\u001b[0m\n",
            "\u001b[?25hDownloading watchdog-6.0.0-py3-none-manylinux2014_x86_64.whl (79 kB)\n",
            "\u001b[2K   \u001b[90m━━━━━━━━━━━━━━━━━━━━━━━━━━━━━━━━━━━━━━━━\u001b[0m \u001b[32m79.1/79.1 kB\u001b[0m \u001b[31m6.3 MB/s\u001b[0m eta \u001b[36m0:00:00\u001b[0m\n",
            "\u001b[?25hDownloading xarray-2025.6.1-py3-none-any.whl (1.3 MB)\n",
            "\u001b[2K   \u001b[90m━━━━━━━━━━━━━━━━━━━━━━━━━━━━━━━━━━━━━━━━\u001b[0m \u001b[32m1.3/1.3 MB\u001b[0m \u001b[31m48.5 MB/s\u001b[0m eta \u001b[36m0:00:00\u001b[0m\n",
            "\u001b[?25hDownloading affine-2.4.0-py3-none-any.whl (15 kB)\n",
            "Downloading pyct-0.5.0-py2.py3-none-any.whl (15 kB)\n",
            "Downloading requests_unixsocket-0.4.1-py3-none-any.whl (11 kB)\n",
            "Downloading aiobotocore-2.24.1-py3-none-any.whl (85 kB)\n",
            "\u001b[2K   \u001b[90m━━━━━━━━━━━━━━━━━━━━━━━━━━━━━━━━━━━━━━━━\u001b[0m \u001b[32m85.2/85.2 kB\u001b[0m \u001b[31m7.1 MB/s\u001b[0m eta \u001b[36m0:00:00\u001b[0m\n",
            "\u001b[?25hDownloading bounded_pool_executor-0.0.3-py3-none-any.whl (3.4 kB)\n",
            "Downloading cartopy-0.25.0-cp312-cp312-manylinux_2_24_x86_64.manylinux_2_28_x86_64.whl (11.8 MB)\n",
            "\u001b[2K   \u001b[90m━━━━━━━━━━━━━━━━━━━━━━━━━━━━━━━━━━━━━━━━\u001b[0m \u001b[32m11.8/11.8 MB\u001b[0m \u001b[31m114.7 MB/s\u001b[0m eta \u001b[36m0:00:00\u001b[0m\n",
            "\u001b[?25hDownloading flox-0.10.6-py3-none-any.whl (80 kB)\n",
            "\u001b[2K   \u001b[90m━━━━━━━━━━━━━━━━━━━━━━━━━━━━━━━━━━━━━━━━\u001b[0m \u001b[32m80.5/80.5 kB\u001b[0m \u001b[31m7.0 MB/s\u001b[0m eta \u001b[36m0:00:00\u001b[0m\n",
            "\u001b[?25hDownloading nc_time_axis-1.4.1-py3-none-any.whl (17 kB)\n",
            "Downloading netCDF4-1.7.2-cp312-cp312-manylinux_2_17_x86_64.manylinux2014_x86_64.whl (9.3 MB)\n",
            "\u001b[2K   \u001b[90m━━━━━━━━━━━━━━━━━━━━━━━━━━━━━━━━━━━━━━━━\u001b[0m \u001b[32m9.3/9.3 MB\u001b[0m \u001b[31m113.5 MB/s\u001b[0m eta \u001b[36m0:00:00\u001b[0m\n",
            "\u001b[?25hDownloading numbagg-0.9.0-py3-none-any.whl (51 kB)\n",
            "\u001b[2K   \u001b[90m━━━━━━━━━━━━━━━━━━━━━━━━━━━━━━━━━━━━━━━━\u001b[0m \u001b[32m51.0/51.0 kB\u001b[0m \u001b[31m4.3 MB/s\u001b[0m eta \u001b[36m0:00:00\u001b[0m\n",
            "\u001b[?25hDownloading sparse-0.17.0-py2.py3-none-any.whl (259 kB)\n",
            "\u001b[2K   \u001b[90m━━━━━━━━━━━━━━━━━━━━━━━━━━━━━━━━━━━━━━━━\u001b[0m \u001b[32m259.4/259.4 kB\u001b[0m \u001b[31m21.2 MB/s\u001b[0m eta \u001b[36m0:00:00\u001b[0m\n",
            "\u001b[?25hDownloading zarr-3.1.1-py3-none-any.whl (255 kB)\n",
            "\u001b[2K   \u001b[90m━━━━━━━━━━━━━━━━━━━━━━━━━━━━━━━━━━━━━━━━\u001b[0m \u001b[32m255.4/255.4 kB\u001b[0m \u001b[31m22.9 MB/s\u001b[0m eta \u001b[36m0:00:00\u001b[0m\n",
            "\u001b[?25hDownloading aioitertools-0.12.0-py3-none-any.whl (24 kB)\n",
            "Downloading botocore-1.39.11-py3-none-any.whl (13.9 MB)\n",
            "\u001b[2K   \u001b[90m━━━━━━━━━━━━━━━━━━━━━━━━━━━━━━━━━━━━━━━━\u001b[0m \u001b[32m13.9/13.9 MB\u001b[0m \u001b[31m20.4 MB/s\u001b[0m eta \u001b[36m0:00:00\u001b[0m\n",
            "\u001b[?25hDownloading donfig-0.8.1.post1-py3-none-any.whl (21 kB)\n",
            "Downloading jmespath-1.0.1-py3-none-any.whl (20 kB)\n",
            "Downloading lz4-4.4.4-cp312-cp312-manylinux_2_17_x86_64.manylinux2014_x86_64.whl (1.3 MB)\n",
            "\u001b[2K   \u001b[90m━━━━━━━━━━━━━━━━━━━━━━━━━━━━━━━━━━━━━━━━\u001b[0m \u001b[32m1.3/1.3 MB\u001b[0m \u001b[31m39.2 MB/s\u001b[0m eta \u001b[36m0:00:00\u001b[0m\n",
            "\u001b[?25hDownloading numcodecs-0.16.2-cp312-cp312-manylinux_2_17_x86_64.manylinux2014_x86_64.whl (8.8 MB)\n",
            "\u001b[2K   \u001b[90m━━━━━━━━━━━━━━━━━━━━━━━━━━━━━━━━━━━━━━━━\u001b[0m \u001b[32m8.8/8.8 MB\u001b[0m \u001b[31m117.2 MB/s\u001b[0m eta \u001b[36m0:00:00\u001b[0m\n",
            "\u001b[?25hDownloading numpy_groupies-0.11.3-py3-none-any.whl (40 kB)\n",
            "\u001b[2K   \u001b[90m━━━━━━━━━━━━━━━━━━━━━━━━━━━━━━━━━━━━━━━━\u001b[0m \u001b[32m40.8/40.8 kB\u001b[0m \u001b[31m3.1 MB/s\u001b[0m eta \u001b[36m0:00:00\u001b[0m\n",
            "\u001b[?25hDownloading distributed-2024.12.1-py3-none-any.whl (1.0 MB)\n",
            "\u001b[2K   \u001b[90m━━━━━━━━━━━━━━━━━━━━━━━━━━━━━━━━━━━━━━━━\u001b[0m \u001b[32m1.0/1.0 MB\u001b[0m \u001b[31m60.0 MB/s\u001b[0m eta \u001b[36m0:00:00\u001b[0m\n",
            "\u001b[?25hDownloading crc32c-2.7.1-cp312-cp312-manylinux_2_5_x86_64.manylinux1_x86_64.manylinux_2_17_x86_64.manylinux2014_x86_64.whl (53 kB)\n",
            "\u001b[2K   \u001b[90m━━━━━━━━━━━━━━━━━━━━━━━━━━━━━━━━━━━━━━━━\u001b[0m \u001b[32m53.5/53.5 kB\u001b[0m \u001b[31m4.7 MB/s\u001b[0m eta \u001b[36m0:00:00\u001b[0m\n",
            "\u001b[?25hDownloading dask_expr-1.1.21-py3-none-any.whl (244 kB)\n",
            "\u001b[2K   \u001b[90m━━━━━━━━━━━━━━━━━━━━━━━━━━━━━━━━━━━━━━━━\u001b[0m \u001b[32m244.3/244.3 kB\u001b[0m \u001b[31m20.5 MB/s\u001b[0m eta \u001b[36m0:00:00\u001b[0m\n",
            "\u001b[?25hBuilding wheels for collected packages: instageo, h5pyd\n",
            "  Building editable for instageo (pyproject.toml) ... \u001b[?25l\u001b[?25hdone\n",
            "  Created wheel for instageo: filename=instageo-0.0.1-0.editable-py3-none-any.whl size=9996 sha256=0ed965a90ac0f299b51cd9ee547ac6bcb264e0759254b4dbd79d2c0209d3b125\n",
            "  Stored in directory: /tmp/pip-ephem-wheel-cache-uvpo8fdw/wheels/cf/2c/e1/bab4c7481d61555cf4a2535dbc6db06d7aa4b602d19c59fc5f\n",
            "  Building wheel for h5pyd (setup.py) ... \u001b[?25l\u001b[?25hdone\n",
            "  Created wheel for h5pyd: filename=h5pyd-0.18.0-py3-none-any.whl size=169249 sha256=f5dfe29cf4a7acf8ba9df8c5b34e0b9237d645f425459c88cfaa92a7abb8ffcc\n",
            "  Stored in directory: /root/.cache/pip/wheels/e4/66/28/7afb28a90517143b7b5583bb9c48dc60c063b6c9fe7bfb6712\n",
            "Successfully built instageo h5pyd\n",
            "Installing collected packages: tinynetrc, bounded-pool-executor, watchdog, validators, tenacity, python-dotenv, pydantic-core, pyct, protobuf, pqdm, pillow, packaging, numpy, multimethod, lz4, jmespath, importlib-metadata, donfig, crc32c, cligj, click-plugins, aioitertools, affine, requests_unixsocket, rasterio, python-cmr, pystac, pydeck, pydantic, numpy_groupies, numcodecs, mgrs, lightning-utilities, hydra-core, fiona, dask, cftime, botocore, xarray, sparse, pydantic-settings, numbagg, netCDF4, h5pyd, geopandas, flox, distributed, dask-expr, aiobotocore, zarr, torchmetrics, stackstac, s3fs, rioxarray, nc-time-axis, datashader, cartopy, timm, streamlit, pytorch_lightning, pystac_client, earthaccess, planetary_computer, instageo\n",
            "  Attempting uninstall: tenacity\n",
            "    Found existing installation: tenacity 9.1.2\n",
            "    Uninstalling tenacity-9.1.2:\n",
            "      Successfully uninstalled tenacity-9.1.2\n",
            "  Attempting uninstall: pydantic-core\n",
            "    Found existing installation: pydantic_core 2.33.2\n",
            "    Uninstalling pydantic_core-2.33.2:\n",
            "      Successfully uninstalled pydantic_core-2.33.2\n",
            "  Attempting uninstall: protobuf\n",
            "    Found existing installation: protobuf 5.29.5\n",
            "    Uninstalling protobuf-5.29.5:\n",
            "      Successfully uninstalled protobuf-5.29.5\n",
            "  Attempting uninstall: pillow\n",
            "    Found existing installation: pillow 11.3.0\n",
            "    Uninstalling pillow-11.3.0:\n",
            "      Successfully uninstalled pillow-11.3.0\n",
            "  Attempting uninstall: packaging\n",
            "    Found existing installation: packaging 25.0\n",
            "    Uninstalling packaging-25.0:\n",
            "      Successfully uninstalled packaging-25.0\n",
            "  Attempting uninstall: numpy\n",
            "    Found existing installation: numpy 2.0.2\n",
            "    Uninstalling numpy-2.0.2:\n",
            "      Successfully uninstalled numpy-2.0.2\n",
            "  Attempting uninstall: importlib-metadata\n",
            "    Found existing installation: importlib_metadata 8.7.0\n",
            "    Uninstalling importlib_metadata-8.7.0:\n",
            "      Successfully uninstalled importlib_metadata-8.7.0\n",
            "  Attempting uninstall: pydantic\n",
            "    Found existing installation: pydantic 2.11.7\n",
            "    Uninstalling pydantic-2.11.7:\n",
            "      Successfully uninstalled pydantic-2.11.7\n",
            "  Attempting uninstall: dask\n",
            "    Found existing installation: dask 2025.5.0\n",
            "    Uninstalling dask-2025.5.0:\n",
            "      Successfully uninstalled dask-2025.5.0\n",
            "  Attempting uninstall: xarray\n",
            "    Found existing installation: xarray 2025.8.0\n",
            "    Uninstalling xarray-2025.8.0:\n",
            "      Successfully uninstalled xarray-2025.8.0\n",
            "  Attempting uninstall: geopandas\n",
            "    Found existing installation: geopandas 1.1.1\n",
            "    Uninstalling geopandas-1.1.1:\n",
            "      Successfully uninstalled geopandas-1.1.1\n",
            "  Attempting uninstall: distributed\n",
            "    Found existing installation: distributed 2025.5.0\n",
            "    Uninstalling distributed-2025.5.0:\n",
            "      Successfully uninstalled distributed-2025.5.0\n",
            "  Attempting uninstall: timm\n",
            "    Found existing installation: timm 1.0.19\n",
            "    Uninstalling timm-1.0.19:\n",
            "      Successfully uninstalled timm-1.0.19\n",
            "\u001b[31mERROR: pip's dependency resolver does not currently take into account all the packages that are installed. This behaviour is the source of the following dependency conflicts.\n",
            "google-cloud-bigquery 3.35.1 requires packaging>=24.2.0, but you have packaging 23.2 which is incompatible.\n",
            "opencv-contrib-python 4.12.0.88 requires numpy<2.3.0,>=2; python_version >= \"3.9\", but you have numpy 1.26.4 which is incompatible.\n",
            "thinc 8.3.6 requires numpy<3.0.0,>=2.0.0, but you have numpy 1.26.4 which is incompatible.\n",
            "opencv-python 4.12.0.88 requires numpy<2.3.0,>=2; python_version >= \"3.9\", but you have numpy 1.26.4 which is incompatible.\n",
            "grpcio-status 1.71.2 requires protobuf<6.0dev,>=5.26.1, but you have protobuf 4.25.8 which is incompatible.\n",
            "db-dtypes 1.4.3 requires packaging>=24.2.0, but you have packaging 23.2 which is incompatible.\n",
            "opencv-python-headless 4.12.0.88 requires numpy<2.3.0,>=2; python_version >= \"3.9\", but you have numpy 1.26.4 which is incompatible.\n",
            "rapids-dask-dependency 25.6.0 requires dask==2025.5.0, but you have dask 2024.12.1 which is incompatible.\n",
            "rapids-dask-dependency 25.6.0 requires distributed==2025.5.0, but you have distributed 2024.12.1 which is incompatible.\n",
            "ydf 0.13.0 requires protobuf<7.0.0,>=5.29.1, but you have protobuf 4.25.8 which is incompatible.\u001b[0m\u001b[31m\n",
            "\u001b[0mSuccessfully installed affine-2.4.0 aiobotocore-2.24.1 aioitertools-0.12.0 botocore-1.39.11 bounded-pool-executor-0.0.3 cartopy-0.25.0 cftime-1.6.4.post1 click-plugins-1.1.1.2 cligj-0.7.2 crc32c-2.7.1 dask-2024.12.1 dask-expr-1.1.21 datashader-0.16.2 distributed-2024.12.1 donfig-0.8.1.post1 earthaccess-0.12.0 fiona-1.10.1 flox-0.10.6 geopandas-0.14.1 h5pyd-0.18.0 hydra-core-1.3.2 importlib-metadata-7.2.1 instageo-0.0.1 jmespath-1.0.1 lightning-utilities-0.15.2 lz4-4.4.4 mgrs-1.4.6 multimethod-2.0 nc-time-axis-1.4.1 netCDF4-1.7.2 numbagg-0.9.0 numcodecs-0.16.2 numpy-1.26.4 numpy_groupies-0.11.3 packaging-23.2 pillow-10.4.0 planetary_computer-1.0.0 pqdm-0.2.0 protobuf-4.25.8 pyct-0.5.0 pydantic-2.10.4 pydantic-core-2.27.2 pydantic-settings-2.7.0 pydeck-0.9.1 pystac-1.13.0 pystac_client-0.8.5 python-cmr-0.13.0 python-dotenv-1.0.1 pytorch_lightning-2.5.3 rasterio-1.4.3 requests_unixsocket-0.4.1 rioxarray-0.19.0 s3fs-2025.3.0 sparse-0.17.0 stackstac-0.5.1 streamlit-1.31.1 tenacity-8.5.0 timm-0.4.12 tinynetrc-1.3.1 torchmetrics-1.8.1 validators-0.35.0 watchdog-6.0.0 xarray-2025.6.1 zarr-3.1.1\n"
          ]
        },
        {
          "output_type": "display_data",
          "data": {
            "application/vnd.colab-display-data+json": {
              "pip_warning": {
                "packages": [
                  "PIL",
                  "google",
                  "numpy",
                  "packaging"
                ]
              },
              "id": "6cd7ac60827b46429612269fc2cfcd76"
            }
          },
          "metadata": {}
        }
      ],
      "source": [
        "# Move into the repo\n",
        "%cd InstaGeo-E2E-Geospatial-ML\n",
        "\n",
        "# Checkout the specific commit\n",
        "!git checkout 4797f1590bf4c3a8fa4ca9ed2886f791cea512a4\n",
        "\n",
        "# Install the package with all extras\n",
        "!pip install -e .[all]"
      ]
    },
    {
      "cell_type": "markdown",
      "id": "238c78e7-720e-49ed-b5ce-6be6567d2585",
      "metadata": {
        "id": "238c78e7-720e-49ed-b5ce-6be6567d2585"
      },
      "source": [
        "## EarthData Login\n",
        "\n",
        "InstaGeo currently supports multispectral data from NASA [Harmonized Landsat and Sentinel-2 (HLS)](https://hls.gsfc.nasa.gov/). Accessing HLS data requires an EarthData user account which can be created [here](https://urs.earthdata.nasa.gov/)"
      ]
    },
    {
      "cell_type": "code",
      "execution_count": 1,
      "id": "4fc7ff9c",
      "metadata": {
        "id": "4fc7ff9c",
        "tags": []
      },
      "outputs": [],
      "source": [
        "from getpass import getpass\n",
        "import os"
      ]
    },
    {
      "cell_type": "code",
      "execution_count": 2,
      "id": "8b7a5f61",
      "metadata": {
        "colab": {
          "base_uri": "https://localhost:8080/"
        },
        "id": "8b7a5f61",
        "outputId": "b99c0486-b566-49fe-ad2f-76521e06cbae"
      },
      "outputs": [
        {
          "output_type": "stream",
          "name": "stdout",
          "text": [
            "✅ EarthData credentials saved successfully!\n"
          ]
        }
      ],
      "source": [
        "import os\n",
        "\n",
        "# Enter your EarthData user account credentials\n",
        "USERNAME = \"peterlennards\"\n",
        "PASSWORD = \"Bix04pexleey!\"\n",
        "\n",
        "content = f\"\"\"machine urs.earthdata.nasa.gov login {USERNAME} password {PASSWORD}\"\"\"\n",
        "\n",
        "# Save credentials to ~/.netrc for authentication\n",
        "with open(os.path.expanduser('~/.netrc'), 'w') as file:\n",
        "    file.write(content)\n",
        "\n",
        "print(\"✅ EarthData credentials saved successfully!\")"
      ]
    },
    {
      "cell_type": "markdown",
      "id": "488a15d3-f22e-4b2c-85c0-435c832e708c",
      "metadata": {
        "id": "488a15d3-f22e-4b2c-85c0-435c832e708c"
      },
      "source": [
        "## InstaGeo - Data\n",
        "\n",
        "With InstaGeo installed and EarthData authentication configured, we are now ready to download and process HLS (Harmonized Landsat and Sentinel) granules using the `InstaGeo-Data` module. This module offers several powerful functionalities for handling geospatial data, including:\n",
        "\n",
        "- Searching and retrieving metadata for HLS granules\n",
        "- Downloading specific spectral bands from HLS granules\n",
        "- Generating data chips and corresponding target labels for machine learning tasks\n",
        "\n",
        "These capabilities streamline the preprocessing of multispectral data, setting the foundation for efficient geospatial model development.\n",
        "\n"
      ]
    },
    {
      "cell_type": "code",
      "source": [
        "# Clean bootstrap: remove old binaries, install compatible stack\n",
        "!pip install -q --upgrade pip setuptools wheel\n",
        "\n",
        "# Remove any previously cached/broken builds\n",
        "!pip uninstall -y numpy pandas\n",
        "\n",
        "# Install a consistent set (works with OpenCV, Streamlit 1.39, etc.)\n",
        "!pip install -q numpy==2.0.1 pandas==2.2.2 packaging==24.2 protobuf==4.25.3\n"
      ],
      "metadata": {
        "colab": {
          "base_uri": "https://localhost:8080/"
        },
        "id": "K-lsUW81oQZ0",
        "outputId": "e4760f92-0fe4-4a2e-8bd4-542b9233536a"
      },
      "id": "K-lsUW81oQZ0",
      "execution_count": 3,
      "outputs": [
        {
          "output_type": "stream",
          "name": "stdout",
          "text": [
            "\u001b[?25l   \u001b[90m━━━━━━━━━━━━━━━━━━━━━━━━━━━━━━━━━━━━━━━━\u001b[0m \u001b[32m0.0/1.8 MB\u001b[0m \u001b[31m?\u001b[0m eta \u001b[36m-:--:--\u001b[0m\r\u001b[2K   \u001b[91m━━━━\u001b[0m\u001b[90m╺\u001b[0m\u001b[90m━━━━━━━━━━━━━━━━━━━━━━━━━━━━━━━━━━━\u001b[0m \u001b[32m0.2/1.8 MB\u001b[0m \u001b[31m5.6 MB/s\u001b[0m eta \u001b[36m0:00:01\u001b[0m\r\u001b[2K   \u001b[91m━━━━━━━━━━━━━━━━━━━━━━━━━━━━━━━━━━\u001b[0m\u001b[90m╺\u001b[0m\u001b[90m━━━━━\u001b[0m \u001b[32m1.5/1.8 MB\u001b[0m \u001b[31m21.8 MB/s\u001b[0m eta \u001b[36m0:00:01\u001b[0m\r\u001b[2K   \u001b[90m━━━━━━━━━━━━━━━━━━━━━━━━━━━━━━━━━━━━━━━━\u001b[0m \u001b[32m1.8/1.8 MB\u001b[0m \u001b[31m20.0 MB/s\u001b[0m eta \u001b[36m0:00:00\u001b[0m\n",
            "\u001b[?25h\u001b[31mERROR: pip's dependency resolver does not currently take into account all the packages that are installed. This behaviour is the source of the following dependency conflicts.\n",
            "ipython 7.34.0 requires jedi>=0.16, which is not installed.\n",
            "thinc 8.3.6 requires numpy<3.0.0,>=2.0.0, but you have numpy 1.26.4 which is incompatible.\u001b[0m\u001b[31m\n",
            "\u001b[0mFound existing installation: numpy 1.26.4\n",
            "Uninstalling numpy-1.26.4:\n",
            "  Successfully uninstalled numpy-1.26.4\n",
            "Found existing installation: pandas 2.2.2\n",
            "Uninstalling pandas-2.2.2:\n",
            "  Successfully uninstalled pandas-2.2.2\n",
            "\u001b[31mERROR: pip's dependency resolver does not currently take into account all the packages that are installed. This behaviour is the source of the following dependency conflicts.\n",
            "streamlit 1.31.1 requires numpy<2,>=1.19.3, but you have numpy 2.0.1 which is incompatible.\n",
            "streamlit 1.31.1 requires packaging<24,>=16.8, but you have packaging 24.2 which is incompatible.\n",
            "grpcio-status 1.71.2 requires protobuf<6.0dev,>=5.26.1, but you have protobuf 4.25.3 which is incompatible.\n",
            "rapids-dask-dependency 25.6.0 requires dask==2025.5.0, but you have dask 2024.12.1 which is incompatible.\n",
            "rapids-dask-dependency 25.6.0 requires distributed==2025.5.0, but you have distributed 2024.12.1 which is incompatible.\n",
            "ydf 0.13.0 requires protobuf<7.0.0,>=5.29.1, but you have protobuf 4.25.3 which is incompatible.\u001b[0m\u001b[31m\n",
            "\u001b[0m"
          ]
        }
      ]
    },
    {
      "cell_type": "code",
      "execution_count": 4,
      "id": "38e36f50",
      "metadata": {
        "id": "38e36f50"
      },
      "outputs": [],
      "source": [
        "import pandas as pd\n",
        "import numpy as np\n",
        "from pathlib import Path"
      ]
    },
    {
      "cell_type": "markdown",
      "id": "c4d83f72",
      "metadata": {
        "id": "c4d83f72"
      },
      "source": [
        "The ground-truth geospatial observations for Rwanda cropland classification used in this notebook were sourced from the [Rwanda 2019 Crop/Non-Crop Labels (HarvestPortal)](https://data.harvestportal.org/dataset/rwanda-2019-crop-non-crop-labels) dataset. Run the following cell to download the data."
      ]
    },
    {
      "cell_type": "code",
      "execution_count": 9,
      "id": "623f4c83",
      "metadata": {
        "colab": {
          "base_uri": "https://localhost:8080/"
        },
        "id": "623f4c83",
        "outputId": "885c42c3-98f5-4be4-8d19-6e7e5a3d5d94"
      },
      "outputs": [
        {
          "output_type": "stream",
          "name": "stdout",
          "text": [
            "Downloading ceo-2019-rwanda-cropland-sample-data-2021-04-20.csv ...\n",
            "Downloading ceo-2019-rwanda-cropland-rcmrd-set-1-sample-data-2021-04-20.csv ...\n",
            "Downloading ceo-2019-rwanda-cropland-rcmrd-set-2-sample-data-2021-04-20.csv ...\n",
            "✅ All files downloaded successfully!\n"
          ]
        }
      ],
      "source": [
        "import requests\n",
        "\n",
        "urls = [\n",
        "    \"https://data.harvestportal.org/dataset/9f4b6470-2c7b-4559-95cb-49e9fd2923f6/resource/ed0ab379-a688-4419-ab96-181c726e1b22/download/ceo-2019-rwanda-cropland-sample-data-2021-04-20.csv\",\n",
        "    \"https://data.harvestportal.org/dataset/9f4b6470-2c7b-4559-95cb-49e9fd2923f6/resource/0cfc1320-f909-4759-90f9-cb5c92ca019e/download/ceo-2019-rwanda-cropland-rcmrd-set-1-sample-data-2021-04-20.csv\",\n",
        "    \"https://data.harvestportal.org/dataset/9f4b6470-2c7b-4559-95cb-49e9fd2923f6/resource/6675cc7e-e6da-4889-9905-60c0d5369ce6/download/ceo-2019-rwanda-cropland-rcmrd-set-2-sample-data-2021-04-20.csv\"\n",
        "]\n",
        "\n",
        "for url in urls:\n",
        "    filename = url.split(\"/\")[-1]\n",
        "    print(f\"Downloading {filename} ...\")\n",
        "    response = requests.get(url)\n",
        "    with open(filename, \"wb\") as f:\n",
        "        f.write(response.content)\n",
        "\n",
        "print(\"✅ All files downloaded successfully!\")\n",
        "\n"
      ]
    },
    {
      "cell_type": "code",
      "execution_count": 11,
      "id": "adf67434",
      "metadata": {
        "id": "adf67434",
        "colab": {
          "base_uri": "https://localhost:8080/",
          "height": 443
        },
        "outputId": "2767661f-bca7-4cbd-baa9-049ec046576c"
      },
      "outputs": [
        {
          "output_type": "error",
          "ename": "TypeError",
          "evalue": "Cannot convert numpy.ndarray to numpy.ndarray",
          "traceback": [
            "\u001b[0;31m---------------------------------------------------------------------------\u001b[0m",
            "\u001b[0;31mTypeError\u001b[0m                                 Traceback (most recent call last)",
            "\u001b[0;32m/tmp/ipython-input-2116356580.py\u001b[0m in \u001b[0;36m<cell line: 0>\u001b[0;34m()\u001b[0m\n\u001b[1;32m      1\u001b[0m \u001b[0mdf1\u001b[0m \u001b[0;34m=\u001b[0m \u001b[0mpd\u001b[0m\u001b[0;34m.\u001b[0m\u001b[0mread_csv\u001b[0m\u001b[0;34m\u001b[0m\u001b[0;34m\u001b[0m\u001b[0m\n\u001b[1;32m      2\u001b[0m \u001b[0;34m(\u001b[0m\u001b[0;34m\"ceo-2019-rwanda-cropland-sample-data-2021-04-20.csv\"\u001b[0m\u001b[0;34m)\u001b[0m\u001b[0;34m\u001b[0m\u001b[0;34m\u001b[0m\u001b[0m\n\u001b[0;32m----> 3\u001b[0;31m \u001b[0mdf2\u001b[0m \u001b[0;34m=\u001b[0m \u001b[0mpd\u001b[0m\u001b[0;34m.\u001b[0m\u001b[0mread_csv\u001b[0m\u001b[0;34m(\u001b[0m\u001b[0;34m\"ceo-2019-rwanda-cropland-rcmrd-set-1-sample-data-2021-04-20.csv\"\u001b[0m\u001b[0;34m)\u001b[0m\u001b[0;34m\u001b[0m\u001b[0;34m\u001b[0m\u001b[0m\n\u001b[0m\u001b[1;32m      4\u001b[0m \u001b[0mdf3\u001b[0m \u001b[0;34m=\u001b[0m \u001b[0mpd\u001b[0m\u001b[0;34m.\u001b[0m\u001b[0mread_csv\u001b[0m\u001b[0;34m(\u001b[0m\u001b[0;34m\"ceo-2019-rwanda-cropland-rcmrd-set-2-sample-data-2021-04-20.csv\"\u001b[0m\u001b[0;34m)\u001b[0m\u001b[0;34m\u001b[0m\u001b[0;34m\u001b[0m\u001b[0m\n\u001b[1;32m      5\u001b[0m \u001b[0;34m\u001b[0m\u001b[0m\n",
            "\u001b[0;32m/usr/local/lib/python3.12/dist-packages/pandas/io/parsers/readers.py\u001b[0m in \u001b[0;36mread_csv\u001b[0;34m(filepath_or_buffer, sep, delimiter, header, names, index_col, usecols, dtype, engine, converters, true_values, false_values, skipinitialspace, skiprows, skipfooter, nrows, na_values, keep_default_na, na_filter, verbose, skip_blank_lines, parse_dates, infer_datetime_format, keep_date_col, date_parser, date_format, dayfirst, cache_dates, iterator, chunksize, compression, thousands, decimal, lineterminator, quotechar, quoting, doublequote, escapechar, comment, encoding, encoding_errors, dialect, on_bad_lines, delim_whitespace, low_memory, memory_map, float_precision, storage_options, dtype_backend)\u001b[0m\n\u001b[1;32m   1024\u001b[0m     \u001b[0mkwds\u001b[0m\u001b[0;34m.\u001b[0m\u001b[0mupdate\u001b[0m\u001b[0;34m(\u001b[0m\u001b[0mkwds_defaults\u001b[0m\u001b[0;34m)\u001b[0m\u001b[0;34m\u001b[0m\u001b[0;34m\u001b[0m\u001b[0m\n\u001b[1;32m   1025\u001b[0m \u001b[0;34m\u001b[0m\u001b[0m\n\u001b[0;32m-> 1026\u001b[0;31m     \u001b[0;32mreturn\u001b[0m \u001b[0m_read\u001b[0m\u001b[0;34m(\u001b[0m\u001b[0mfilepath_or_buffer\u001b[0m\u001b[0;34m,\u001b[0m \u001b[0mkwds\u001b[0m\u001b[0;34m)\u001b[0m\u001b[0;34m\u001b[0m\u001b[0;34m\u001b[0m\u001b[0m\n\u001b[0m\u001b[1;32m   1027\u001b[0m \u001b[0;34m\u001b[0m\u001b[0m\n\u001b[1;32m   1028\u001b[0m \u001b[0;34m\u001b[0m\u001b[0m\n",
            "\u001b[0;32m/usr/local/lib/python3.12/dist-packages/pandas/io/parsers/readers.py\u001b[0m in \u001b[0;36m_read\u001b[0;34m(filepath_or_buffer, kwds)\u001b[0m\n\u001b[1;32m    624\u001b[0m \u001b[0;34m\u001b[0m\u001b[0m\n\u001b[1;32m    625\u001b[0m     \u001b[0;32mwith\u001b[0m \u001b[0mparser\u001b[0m\u001b[0;34m:\u001b[0m\u001b[0;34m\u001b[0m\u001b[0;34m\u001b[0m\u001b[0m\n\u001b[0;32m--> 626\u001b[0;31m         \u001b[0;32mreturn\u001b[0m \u001b[0mparser\u001b[0m\u001b[0;34m.\u001b[0m\u001b[0mread\u001b[0m\u001b[0;34m(\u001b[0m\u001b[0mnrows\u001b[0m\u001b[0;34m)\u001b[0m\u001b[0;34m\u001b[0m\u001b[0;34m\u001b[0m\u001b[0m\n\u001b[0m\u001b[1;32m    627\u001b[0m \u001b[0;34m\u001b[0m\u001b[0m\n\u001b[1;32m    628\u001b[0m \u001b[0;34m\u001b[0m\u001b[0m\n",
            "\u001b[0;32m/usr/local/lib/python3.12/dist-packages/pandas/io/parsers/readers.py\u001b[0m in \u001b[0;36mread\u001b[0;34m(self, nrows)\u001b[0m\n\u001b[1;32m   1966\u001b[0m                 \u001b[0mnew_col_dict\u001b[0m \u001b[0;34m=\u001b[0m \u001b[0mcol_dict\u001b[0m\u001b[0;34m\u001b[0m\u001b[0;34m\u001b[0m\u001b[0m\n\u001b[1;32m   1967\u001b[0m \u001b[0;34m\u001b[0m\u001b[0m\n\u001b[0;32m-> 1968\u001b[0;31m             df = DataFrame(\n\u001b[0m\u001b[1;32m   1969\u001b[0m                 \u001b[0mnew_col_dict\u001b[0m\u001b[0;34m,\u001b[0m\u001b[0;34m\u001b[0m\u001b[0;34m\u001b[0m\u001b[0m\n\u001b[1;32m   1970\u001b[0m                 \u001b[0mcolumns\u001b[0m\u001b[0;34m=\u001b[0m\u001b[0mcolumns\u001b[0m\u001b[0;34m,\u001b[0m\u001b[0;34m\u001b[0m\u001b[0;34m\u001b[0m\u001b[0m\n",
            "\u001b[0;32m/usr/local/lib/python3.12/dist-packages/pandas/core/frame.py\u001b[0m in \u001b[0;36m__init__\u001b[0;34m(self, data, index, columns, dtype, copy)\u001b[0m\n\u001b[1;32m    776\u001b[0m         \u001b[0;32melif\u001b[0m \u001b[0misinstance\u001b[0m\u001b[0;34m(\u001b[0m\u001b[0mdata\u001b[0m\u001b[0;34m,\u001b[0m \u001b[0mdict\u001b[0m\u001b[0;34m)\u001b[0m\u001b[0;34m:\u001b[0m\u001b[0;34m\u001b[0m\u001b[0;34m\u001b[0m\u001b[0m\n\u001b[1;32m    777\u001b[0m             \u001b[0;31m# GH#38939 de facto copy defaults to False only in non-dict cases\u001b[0m\u001b[0;34m\u001b[0m\u001b[0;34m\u001b[0m\u001b[0m\n\u001b[0;32m--> 778\u001b[0;31m             \u001b[0mmgr\u001b[0m \u001b[0;34m=\u001b[0m \u001b[0mdict_to_mgr\u001b[0m\u001b[0;34m(\u001b[0m\u001b[0mdata\u001b[0m\u001b[0;34m,\u001b[0m \u001b[0mindex\u001b[0m\u001b[0;34m,\u001b[0m \u001b[0mcolumns\u001b[0m\u001b[0;34m,\u001b[0m \u001b[0mdtype\u001b[0m\u001b[0;34m=\u001b[0m\u001b[0mdtype\u001b[0m\u001b[0;34m,\u001b[0m \u001b[0mcopy\u001b[0m\u001b[0;34m=\u001b[0m\u001b[0mcopy\u001b[0m\u001b[0;34m,\u001b[0m \u001b[0mtyp\u001b[0m\u001b[0;34m=\u001b[0m\u001b[0mmanager\u001b[0m\u001b[0;34m)\u001b[0m\u001b[0;34m\u001b[0m\u001b[0;34m\u001b[0m\u001b[0m\n\u001b[0m\u001b[1;32m    779\u001b[0m         \u001b[0;32melif\u001b[0m \u001b[0misinstance\u001b[0m\u001b[0;34m(\u001b[0m\u001b[0mdata\u001b[0m\u001b[0;34m,\u001b[0m \u001b[0mma\u001b[0m\u001b[0;34m.\u001b[0m\u001b[0mMaskedArray\u001b[0m\u001b[0;34m)\u001b[0m\u001b[0;34m:\u001b[0m\u001b[0;34m\u001b[0m\u001b[0;34m\u001b[0m\u001b[0m\n\u001b[1;32m    780\u001b[0m             \u001b[0;32mfrom\u001b[0m \u001b[0mnumpy\u001b[0m\u001b[0;34m.\u001b[0m\u001b[0mma\u001b[0m \u001b[0;32mimport\u001b[0m \u001b[0mmrecords\u001b[0m\u001b[0;34m\u001b[0m\u001b[0;34m\u001b[0m\u001b[0m\n",
            "\u001b[0;32m/usr/local/lib/python3.12/dist-packages/pandas/core/internals/construction.py\u001b[0m in \u001b[0;36mdict_to_mgr\u001b[0;34m(data, index, columns, dtype, typ, copy)\u001b[0m\n\u001b[1;32m    441\u001b[0m         \u001b[0;32mfrom\u001b[0m \u001b[0mpandas\u001b[0m\u001b[0;34m.\u001b[0m\u001b[0mcore\u001b[0m\u001b[0;34m.\u001b[0m\u001b[0mseries\u001b[0m \u001b[0;32mimport\u001b[0m \u001b[0mSeries\u001b[0m\u001b[0;34m\u001b[0m\u001b[0;34m\u001b[0m\u001b[0m\n\u001b[1;32m    442\u001b[0m \u001b[0;34m\u001b[0m\u001b[0m\n\u001b[0;32m--> 443\u001b[0;31m         \u001b[0marrays\u001b[0m \u001b[0;34m=\u001b[0m \u001b[0mSeries\u001b[0m\u001b[0;34m(\u001b[0m\u001b[0mdata\u001b[0m\u001b[0;34m,\u001b[0m \u001b[0mindex\u001b[0m\u001b[0;34m=\u001b[0m\u001b[0mcolumns\u001b[0m\u001b[0;34m,\u001b[0m \u001b[0mdtype\u001b[0m\u001b[0;34m=\u001b[0m\u001b[0mobject\u001b[0m\u001b[0;34m)\u001b[0m\u001b[0;34m\u001b[0m\u001b[0;34m\u001b[0m\u001b[0m\n\u001b[0m\u001b[1;32m    444\u001b[0m         \u001b[0mmissing\u001b[0m \u001b[0;34m=\u001b[0m \u001b[0marrays\u001b[0m\u001b[0;34m.\u001b[0m\u001b[0misna\u001b[0m\u001b[0;34m(\u001b[0m\u001b[0;34m)\u001b[0m\u001b[0;34m\u001b[0m\u001b[0;34m\u001b[0m\u001b[0m\n\u001b[1;32m    445\u001b[0m         \u001b[0;32mif\u001b[0m \u001b[0mindex\u001b[0m \u001b[0;32mis\u001b[0m \u001b[0;32mNone\u001b[0m\u001b[0;34m:\u001b[0m\u001b[0;34m\u001b[0m\u001b[0;34m\u001b[0m\u001b[0m\n",
            "\u001b[0;32m/usr/local/lib/python3.12/dist-packages/pandas/core/series.py\u001b[0m in \u001b[0;36m__init__\u001b[0;34m(self, data, index, dtype, name, copy, fastpath)\u001b[0m\n\u001b[1;32m    488\u001b[0m \u001b[0;34m\u001b[0m\u001b[0m\n\u001b[1;32m    489\u001b[0m         \u001b[0;32mif\u001b[0m \u001b[0mindex\u001b[0m \u001b[0;32mis\u001b[0m \u001b[0;32mnot\u001b[0m \u001b[0;32mNone\u001b[0m\u001b[0;34m:\u001b[0m\u001b[0;34m\u001b[0m\u001b[0;34m\u001b[0m\u001b[0m\n\u001b[0;32m--> 490\u001b[0;31m             \u001b[0mindex\u001b[0m \u001b[0;34m=\u001b[0m \u001b[0mensure_index\u001b[0m\u001b[0;34m(\u001b[0m\u001b[0mindex\u001b[0m\u001b[0;34m)\u001b[0m\u001b[0;34m\u001b[0m\u001b[0;34m\u001b[0m\u001b[0m\n\u001b[0m\u001b[1;32m    491\u001b[0m \u001b[0;34m\u001b[0m\u001b[0m\n\u001b[1;32m    492\u001b[0m         \u001b[0;32mif\u001b[0m \u001b[0mdtype\u001b[0m \u001b[0;32mis\u001b[0m \u001b[0;32mnot\u001b[0m \u001b[0;32mNone\u001b[0m\u001b[0;34m:\u001b[0m\u001b[0;34m\u001b[0m\u001b[0;34m\u001b[0m\u001b[0m\n",
            "\u001b[0;32m/usr/local/lib/python3.12/dist-packages/pandas/core/indexes/base.py\u001b[0m in \u001b[0;36mensure_index\u001b[0;34m(index_like, copy)\u001b[0m\n\u001b[1;32m   7645\u001b[0m             \u001b[0;32mreturn\u001b[0m \u001b[0mMultiIndex\u001b[0m\u001b[0;34m.\u001b[0m\u001b[0mfrom_arrays\u001b[0m\u001b[0;34m(\u001b[0m\u001b[0mindex_like\u001b[0m\u001b[0;34m)\u001b[0m\u001b[0;34m\u001b[0m\u001b[0;34m\u001b[0m\u001b[0m\n\u001b[1;32m   7646\u001b[0m         \u001b[0;32melse\u001b[0m\u001b[0;34m:\u001b[0m\u001b[0;34m\u001b[0m\u001b[0;34m\u001b[0m\u001b[0m\n\u001b[0;32m-> 7647\u001b[0;31m             \u001b[0;32mreturn\u001b[0m \u001b[0mIndex\u001b[0m\u001b[0;34m(\u001b[0m\u001b[0mindex_like\u001b[0m\u001b[0;34m,\u001b[0m \u001b[0mcopy\u001b[0m\u001b[0;34m=\u001b[0m\u001b[0mcopy\u001b[0m\u001b[0;34m,\u001b[0m \u001b[0mtupleize_cols\u001b[0m\u001b[0;34m=\u001b[0m\u001b[0;32mFalse\u001b[0m\u001b[0;34m)\u001b[0m\u001b[0;34m\u001b[0m\u001b[0;34m\u001b[0m\u001b[0m\n\u001b[0m\u001b[1;32m   7648\u001b[0m     \u001b[0;32melse\u001b[0m\u001b[0;34m:\u001b[0m\u001b[0;34m\u001b[0m\u001b[0;34m\u001b[0m\u001b[0m\n\u001b[1;32m   7649\u001b[0m         \u001b[0;32mreturn\u001b[0m \u001b[0mIndex\u001b[0m\u001b[0;34m(\u001b[0m\u001b[0mindex_like\u001b[0m\u001b[0;34m,\u001b[0m \u001b[0mcopy\u001b[0m\u001b[0;34m=\u001b[0m\u001b[0mcopy\u001b[0m\u001b[0;34m)\u001b[0m\u001b[0;34m\u001b[0m\u001b[0;34m\u001b[0m\u001b[0m\n",
            "\u001b[0;32m/usr/local/lib/python3.12/dist-packages/pandas/core/indexes/base.py\u001b[0m in \u001b[0;36m__new__\u001b[0;34m(cls, data, dtype, copy, name, tupleize_cols)\u001b[0m\n\u001b[1;32m    563\u001b[0m \u001b[0;34m\u001b[0m\u001b[0m\n\u001b[1;32m    564\u001b[0m         \u001b[0;32mtry\u001b[0m\u001b[0;34m:\u001b[0m\u001b[0;34m\u001b[0m\u001b[0;34m\u001b[0m\u001b[0m\n\u001b[0;32m--> 565\u001b[0;31m             \u001b[0marr\u001b[0m \u001b[0;34m=\u001b[0m \u001b[0msanitize_array\u001b[0m\u001b[0;34m(\u001b[0m\u001b[0mdata\u001b[0m\u001b[0;34m,\u001b[0m \u001b[0;32mNone\u001b[0m\u001b[0;34m,\u001b[0m \u001b[0mdtype\u001b[0m\u001b[0;34m=\u001b[0m\u001b[0mdtype\u001b[0m\u001b[0;34m,\u001b[0m \u001b[0mcopy\u001b[0m\u001b[0;34m=\u001b[0m\u001b[0mcopy\u001b[0m\u001b[0;34m)\u001b[0m\u001b[0;34m\u001b[0m\u001b[0;34m\u001b[0m\u001b[0m\n\u001b[0m\u001b[1;32m    566\u001b[0m         \u001b[0;32mexcept\u001b[0m \u001b[0mValueError\u001b[0m \u001b[0;32mas\u001b[0m \u001b[0merr\u001b[0m\u001b[0;34m:\u001b[0m\u001b[0;34m\u001b[0m\u001b[0;34m\u001b[0m\u001b[0m\n\u001b[1;32m    567\u001b[0m             \u001b[0;32mif\u001b[0m \u001b[0;34m\"index must be specified when data is not list-like\"\u001b[0m \u001b[0;32min\u001b[0m \u001b[0mstr\u001b[0m\u001b[0;34m(\u001b[0m\u001b[0merr\u001b[0m\u001b[0;34m)\u001b[0m\u001b[0;34m:\u001b[0m\u001b[0;34m\u001b[0m\u001b[0;34m\u001b[0m\u001b[0m\n",
            "\u001b[0;32m/usr/local/lib/python3.12/dist-packages/pandas/core/construction.py\u001b[0m in \u001b[0;36msanitize_array\u001b[0;34m(data, index, dtype, copy, allow_2d)\u001b[0m\n\u001b[1;32m    652\u001b[0m \u001b[0;34m\u001b[0m\u001b[0m\n\u001b[1;32m    653\u001b[0m         \u001b[0;32melse\u001b[0m\u001b[0;34m:\u001b[0m\u001b[0;34m\u001b[0m\u001b[0;34m\u001b[0m\u001b[0m\n\u001b[0;32m--> 654\u001b[0;31m             \u001b[0msubarr\u001b[0m \u001b[0;34m=\u001b[0m \u001b[0mmaybe_convert_platform\u001b[0m\u001b[0;34m(\u001b[0m\u001b[0mdata\u001b[0m\u001b[0;34m)\u001b[0m\u001b[0;34m\u001b[0m\u001b[0;34m\u001b[0m\u001b[0m\n\u001b[0m\u001b[1;32m    655\u001b[0m             \u001b[0;32mif\u001b[0m \u001b[0msubarr\u001b[0m\u001b[0;34m.\u001b[0m\u001b[0mdtype\u001b[0m \u001b[0;34m==\u001b[0m \u001b[0mobject\u001b[0m\u001b[0;34m:\u001b[0m\u001b[0;34m\u001b[0m\u001b[0;34m\u001b[0m\u001b[0m\n\u001b[1;32m    656\u001b[0m                 \u001b[0msubarr\u001b[0m \u001b[0;34m=\u001b[0m \u001b[0mcast\u001b[0m\u001b[0;34m(\u001b[0m\u001b[0mnp\u001b[0m\u001b[0;34m.\u001b[0m\u001b[0mndarray\u001b[0m\u001b[0;34m,\u001b[0m \u001b[0msubarr\u001b[0m\u001b[0;34m)\u001b[0m\u001b[0;34m\u001b[0m\u001b[0;34m\u001b[0m\u001b[0m\n",
            "\u001b[0;32m/usr/local/lib/python3.12/dist-packages/pandas/core/dtypes/cast.py\u001b[0m in \u001b[0;36mmaybe_convert_platform\u001b[0;34m(values)\u001b[0m\n\u001b[1;32m    137\u001b[0m     \u001b[0;32mif\u001b[0m \u001b[0marr\u001b[0m\u001b[0;34m.\u001b[0m\u001b[0mdtype\u001b[0m \u001b[0;34m==\u001b[0m \u001b[0m_dtype_obj\u001b[0m\u001b[0;34m:\u001b[0m\u001b[0;34m\u001b[0m\u001b[0;34m\u001b[0m\u001b[0m\n\u001b[1;32m    138\u001b[0m         \u001b[0marr\u001b[0m \u001b[0;34m=\u001b[0m \u001b[0mcast\u001b[0m\u001b[0;34m(\u001b[0m\u001b[0mnp\u001b[0m\u001b[0;34m.\u001b[0m\u001b[0mndarray\u001b[0m\u001b[0;34m,\u001b[0m \u001b[0marr\u001b[0m\u001b[0;34m)\u001b[0m\u001b[0;34m\u001b[0m\u001b[0;34m\u001b[0m\u001b[0m\n\u001b[0;32m--> 139\u001b[0;31m         \u001b[0marr\u001b[0m \u001b[0;34m=\u001b[0m \u001b[0mlib\u001b[0m\u001b[0;34m.\u001b[0m\u001b[0mmaybe_convert_objects\u001b[0m\u001b[0;34m(\u001b[0m\u001b[0marr\u001b[0m\u001b[0;34m)\u001b[0m\u001b[0;34m\u001b[0m\u001b[0;34m\u001b[0m\u001b[0m\n\u001b[0m\u001b[1;32m    140\u001b[0m \u001b[0;34m\u001b[0m\u001b[0m\n\u001b[1;32m    141\u001b[0m     \u001b[0;32mreturn\u001b[0m \u001b[0marr\u001b[0m\u001b[0;34m\u001b[0m\u001b[0;34m\u001b[0m\u001b[0m\n",
            "\u001b[0;32mlib.pyx\u001b[0m in \u001b[0;36mpandas._libs.lib.maybe_convert_objects\u001b[0;34m()\u001b[0m\n",
            "\u001b[0;31mTypeError\u001b[0m: Cannot convert numpy.ndarray to numpy.ndarray"
          ]
        }
      ],
      "source": [
        "df1 = pd.read_csv\n",
        "(\"ceo-2019-rwanda-cropland-sample-data-2021-04-20.csv\")\n",
        "df2 = pd.read_csv(\"ceo-2019-rwanda-cropland-rcmrd-set-1-sample-data-2021-04-20.csv\")\n",
        "df3 = pd.read_csv(\"ceo-2019-rwanda-cropland-rcmrd-set-2-sample-data-2021-04-20.csv\")\n",
        "\n",
        "df = pd.concat([df1, df2, df3])\n"
      ]
    },
    {
      "cell_type": "code",
      "execution_count": null,
      "id": "f6541bd6",
      "metadata": {
        "id": "f6541bd6"
      },
      "outputs": [],
      "source": [
        "df = df[['lat', 'lon', 'collection_time', 'Crop/ or not', 'sample_id']]\n",
        "df = df.rename({\"lon\": \"x\", \"lat\":\"y\", \"Crop/ or not\":'label', 'collection_time':\"date\"}, axis=1)\n",
        "df.head(10)"
      ]
    },
    {
      "cell_type": "code",
      "execution_count": null,
      "id": "e7ac02c8",
      "metadata": {
        "id": "e7ac02c8"
      },
      "outputs": [],
      "source": [
        "def label_map(x):\n",
        "    if x == \"Cropland\":\n",
        "        return 1\n",
        "    elif x == \"Non-crop\":\n",
        "        return 0\n",
        "    else:\n",
        "        return np.nan\n",
        "\n",
        "df['date'] = df['date'].map(lambda x: pd.to_datetime(x).strftime(\"%Y-%m-%d\"))\n",
        "df['label'] = df['label'].map(label_map)\n",
        "df = df.dropna().reset_index()\n",
        "df.head(10)"
      ]
    },
    {
      "cell_type": "code",
      "execution_count": null,
      "id": "329a3b51",
      "metadata": {
        "id": "329a3b51"
      },
      "outputs": [],
      "source": [
        "print(f\"The number of labeled observations in the aggregated dataset is: {df.shape[0]}\")"
      ]
    },
    {
      "cell_type": "markdown",
      "id": "537d9124",
      "metadata": {
        "id": "537d9124"
      },
      "source": [
        "**Optional**: For the sake of rapid experimentation, let's use a subset of the observations (for instance 10%), while keeping approximately the same distribution for the labels."
      ]
    },
    {
      "cell_type": "code",
      "execution_count": null,
      "id": "31fe42a8",
      "metadata": {
        "id": "31fe42a8"
      },
      "outputs": [],
      "source": [
        "df = df.groupby('label', as_index=False).sample(frac=0.1).reset_index(drop=True)\n",
        "print(f\"The number of labeled observations in the subset is: {df.shape[0]}\")"
      ]
    },
    {
      "cell_type": "code",
      "execution_count": null,
      "id": "66e324e2",
      "metadata": {
        "id": "66e324e2"
      },
      "outputs": [],
      "source": [
        "from sklearn.model_selection import train_test_split\n",
        "\n",
        "train, val_and_test = train_test_split(df, test_size=0.3)\n",
        "val, test = train_test_split(val_and_test, test_size=0.5)\n",
        "\n",
        "print(train.size, val.size, test.size)"
      ]
    },
    {
      "cell_type": "code",
      "execution_count": null,
      "id": "527edae6",
      "metadata": {
        "id": "527edae6"
      },
      "outputs": [],
      "source": [
        "train.to_csv(\"rwanda_cropland_data_train.csv\")\n",
        "val.to_csv(\"rwanda_cropland_data_val.csv\")\n",
        "test.to_csv(\"rwanda_cropland_data_test.csv\")"
      ]
    },
    {
      "cell_type": "markdown",
      "id": "fcc545f4",
      "metadata": {
        "id": "fcc545f4"
      },
      "source": [
        "After splitting the data into training, validation, and test sets, the next step is to group the data by the HLS granules they belong to and download the corresponding spectral bands for each granule. Once the bands are retrieved, we will generate smaller chips and target labels with dimensions of 256 x 256 pixels.\n",
        "\n",
        "By the end of this process, the input data will have a shape of 3 x 6 x 256 x 256 (representing three sets of six spectral bands and 256 x 256 pixel chips), and the target labels will have a shape of 256 x 256.\n",
        "\n",
        "While these tasks might seem complex, the `InstaGeo-Data` module abstracts this process, allowing you to configure it with a simple command as shown in the following cells"
      ]
    },
    {
      "cell_type": "markdown",
      "id": "b901a48e",
      "metadata": {
        "id": "b901a48e"
      },
      "source": [
        "### Training Split"
      ]
    },
    {
      "cell_type": "code",
      "execution_count": null,
      "id": "c11bfeb8-df6b-4b8c-8c8a-059a5a28b8ea",
      "metadata": {
        "id": "c11bfeb8-df6b-4b8c-8c8a-059a5a28b8ea",
        "tags": []
      },
      "outputs": [],
      "source": [
        "%%bash\n",
        "mkdir train\n",
        "python -m \"instageo.data.chip_creator\" \\\n",
        "    --dataframe_path=\"rwanda_cropland_data_train.csv\" \\\n",
        "    --output_directory=\"train\" \\\n",
        "    --min_count=3 \\\n",
        "    --chip_size=256 \\\n",
        "    --temporal_tolerance=3 \\\n",
        "    --temporal_step=30 \\\n",
        "    --num_steps=3 \\\n",
        "    --masking_strategy=any \\\n",
        "    --mask_types=water \\\n",
        "    --window_size=1 \\\n",
        "    --processing_method=cog"
      ]
    },
    {
      "cell_type": "code",
      "execution_count": null,
      "id": "22FADUFcfYsR",
      "metadata": {
        "id": "22FADUFcfYsR"
      },
      "outputs": [],
      "source": [
        "root_dir = Path.cwd()\n",
        "chips_orig = os.listdir(os.path.join(root_dir, \"train/chips\"))\n",
        "chips = [chip.replace(\"chip\", \"train/chips/chip\") for chip in chips_orig]\n",
        "seg_maps = [chip.replace(\"chip\", \"train/seg_maps/seg_map\") for chip in chips_orig]\n",
        "\n",
        "df = pd.DataFrame({\"Input\": chips, \"Label\": seg_maps})\n",
        "df.to_csv(os.path.join(\"train.csv\"))"
      ]
    },
    {
      "cell_type": "code",
      "execution_count": null,
      "id": "UTu-qJkYflGD",
      "metadata": {
        "id": "UTu-qJkYflGD"
      },
      "outputs": [],
      "source": [
        "print(f\"The size of the train split: {df.shape[0]}\")"
      ]
    },
    {
      "cell_type": "markdown",
      "id": "5f87be84",
      "metadata": {
        "id": "5f87be84"
      },
      "source": [
        "### Validation Split"
      ]
    },
    {
      "cell_type": "code",
      "execution_count": null,
      "id": "qN2Zm9MxfsGc",
      "metadata": {
        "id": "qN2Zm9MxfsGc"
      },
      "outputs": [],
      "source": [
        "%%bash\n",
        "mkdir val\n",
        "python -m \"instageo.data.chip_creator\" \\\n",
        "    --dataframe_path=\"rwanda_cropland_data_val.csv\" \\\n",
        "    --output_directory=\"val\" \\\n",
        "    --min_count=3 \\\n",
        "    --chip_size=256 \\\n",
        "    --temporal_tolerance=3 \\\n",
        "    --temporal_step=30 \\\n",
        "    --num_steps=3 \\\n",
        "    --masking_strategy=any \\\n",
        "    --mask_types=water \\\n",
        "    --window_size=1 \\\n",
        "    --processing_method=cog"
      ]
    },
    {
      "cell_type": "code",
      "execution_count": null,
      "id": "IAhs3vF9fyO4",
      "metadata": {
        "id": "IAhs3vF9fyO4"
      },
      "outputs": [],
      "source": [
        "root_dir = Path.cwd()\n",
        "chips_orig = os.listdir(os.path.join(root_dir, \"val/chips\"))\n",
        "chips = [chip.replace(\"chip\", \"val/chips/chip\") for chip in chips_orig]\n",
        "seg_maps = [chip.replace(\"chip\", \"val/seg_maps/seg_map\") for chip in chips_orig]\n",
        "\n",
        "df = pd.DataFrame({\"Input\": chips, \"Label\": seg_maps})\n",
        "df.to_csv(os.path.join(\"val.csv\"))"
      ]
    },
    {
      "cell_type": "code",
      "execution_count": null,
      "id": "c1S26jbTmH4J",
      "metadata": {
        "id": "c1S26jbTmH4J"
      },
      "outputs": [],
      "source": [
        "print(f\"The size of the validation split: {df.shape[0]}\")"
      ]
    },
    {
      "cell_type": "markdown",
      "id": "3d4e7fa6",
      "metadata": {
        "id": "3d4e7fa6"
      },
      "source": [
        "### Test Split"
      ]
    },
    {
      "cell_type": "code",
      "execution_count": null,
      "id": "_xaa5V3sf3pJ",
      "metadata": {
        "id": "_xaa5V3sf3pJ"
      },
      "outputs": [],
      "source": [
        "%%bash\n",
        "mkdir test\n",
        "python -m \"instageo.data.chip_creator\" \\\n",
        "    --dataframe_path=\"rwanda_cropland_data_test.csv\" \\\n",
        "    --output_directory=\"test\" \\\n",
        "    --min_count=3 \\\n",
        "    --chip_size=256 \\\n",
        "    --temporal_tolerance=3 \\\n",
        "    --temporal_step=30 \\\n",
        "    --num_steps=3 \\\n",
        "    --masking_strategy=any \\\n",
        "    --mask_types=water \\\n",
        "    --window_size=1 \\\n",
        "    --processing_method=cog"
      ]
    },
    {
      "cell_type": "code",
      "execution_count": null,
      "id": "v7RvCMofgCCa",
      "metadata": {
        "id": "v7RvCMofgCCa"
      },
      "outputs": [],
      "source": [
        "root_dir = Path.cwd()\n",
        "chips_orig = os.listdir(os.path.join(root_dir, \"test/chips\"))\n",
        "chips = [chip.replace(\"chip\", \"test/chips/chip\") for chip in chips_orig]\n",
        "seg_maps = [chip.replace(\"chip\", \"test/seg_maps/seg_map\") for chip in chips_orig]\n",
        "\n",
        "df = pd.DataFrame({\"Input\": chips, \"Label\": seg_maps})\n",
        "df.to_csv(os.path.join(\"test.csv\"))"
      ]
    },
    {
      "cell_type": "code",
      "execution_count": null,
      "id": "XYrUAef1mJ0N",
      "metadata": {
        "id": "XYrUAef1mJ0N"
      },
      "outputs": [],
      "source": [
        "print(f\"The size of the test split: {df.shape[0]}\")"
      ]
    },
    {
      "cell_type": "markdown",
      "id": "bcb132b0-04dd-4583-8e30-e6332446a0e6",
      "metadata": {
        "id": "bcb132b0-04dd-4583-8e30-e6332446a0e6"
      },
      "source": [
        "## InstaGeo - Model"
      ]
    },
    {
      "cell_type": "markdown",
      "id": "fd313044-829c-482d-934e-9ae662f132fc",
      "metadata": {
        "id": "fd313044-829c-482d-934e-9ae662f132fc"
      },
      "source": [
        "After creating our dataset using the `InstaGeo-Data` module, we can move on to fine-tuning a model that includes a Prithvi backbone paired with a classification head. For regression tasks, the classification head can easily be replaced with a suitable regression head. Additionally, if a completely different model architecture is needed, it can be designed and implemented within this framework."
      ]
    },
    {
      "cell_type": "code",
      "execution_count": null,
      "id": "c64fee29-dca3-4611-a43a-4412a6033751",
      "metadata": {
        "id": "c64fee29-dca3-4611-a43a-4412a6033751"
      },
      "outputs": [],
      "source": [
        "import os\n",
        "import os\n",
        "import pandas as pd\n",
        "import numpy as np\n",
        "from pathlib import Path"
      ]
    },
    {
      "cell_type": "markdown",
      "id": "115cbc92",
      "metadata": {
        "id": "115cbc92"
      },
      "source": [
        "**Launch Training**"
      ]
    },
    {
      "cell_type": "markdown",
      "id": "47dc76c1-26b9-47b9-8066-5c1df499b40f",
      "metadata": {
        "collapsed": true,
        "id": "47dc76c1-26b9-47b9-8066-5c1df499b40f",
        "jupyter": {
          "outputs_hidden": true
        },
        "outputId": "3669afc6-e528-4211-fc51-27ec8a96eacb",
        "tags": []
      },
      "source": [
        "First compute the mean and standard deviation for the dataset and update the corresponding config file, in this case `locust.yaml`"
      ]
    },
    {
      "cell_type": "code",
      "execution_count": null,
      "id": "10db019e",
      "metadata": {
        "vscode": {
          "languageId": "markdown"
        },
        "id": "10db019e"
      },
      "outputs": [],
      "source": [
        "!python -m instageo.model.run --config-name=locust \\\n",
        "    root_dir='.' \\\n",
        "    train.batch_size=8 \\\n",
        "    mode=stats \\\n",
        "    train_filepath=\"train.csv\"\n"
      ]
    },
    {
      "cell_type": "code",
      "execution_count": null,
      "id": "67acf232",
      "metadata": {
        "vscode": {
          "languageId": "markdown"
        },
        "id": "67acf232"
      },
      "outputs": [],
      "source": [
        "!python -m instageo.model.run --config-name=locust \\\n",
        "    root_dir='.' \\\n",
        "    train.batch_size=8 \\\n",
        "    train.num_epochs=5 \\\n",
        "    train_filepath=\"train.csv\" \\\n",
        "    valid_filepath=\"val.csv\""
      ]
    },
    {
      "cell_type": "markdown",
      "id": "f8230588-2842-460c-b2e7-4f2f4175dc3e",
      "metadata": {
        "collapsed": true,
        "id": "f8230588-2842-460c-b2e7-4f2f4175dc3e",
        "jupyter": {
          "outputs_hidden": true
        },
        "outputId": "732da70c-6b84-474f-f047-c27292804085",
        "tags": []
      },
      "source": [
        "**Run Model Evaluation**"
      ]
    },
    {
      "cell_type": "markdown",
      "metadata": {
        "id": "LeXSi0BTlwrr"
      },
      "source": [
        "Adjust the `checkpoint_path` argument to use the desired model checkpoint."
      ],
      "id": "LeXSi0BTlwrr"
    },
    {
      "cell_type": "code",
      "execution_count": null,
      "metadata": {
        "collapsed": true,
        "jupyter": {
          "outputs_hidden": true
        },
        "tags": [],
        "id": "P08UH8ztlwrs"
      },
      "outputs": [],
      "source": [
        "!python -m instageo.model.run --config-name=locust \\\n",
        "    root_dir='.' \\\n",
        "    test_filepath=\"test.csv\" \\\n",
        "    train.batch_size=8 \\\n",
        "    checkpoint_path='checkpoint-path' \\\n",
        "    mode=eval"
      ],
      "id": "P08UH8ztlwrs"
    },
    {
      "cell_type": "markdown",
      "id": "b9a73d79-f69f-4fb8-aa63-768ee3ee47ea",
      "metadata": {
        "id": "b9a73d79-f69f-4fb8-aa63-768ee3ee47ea"
      },
      "source": [
        "**Run Inference**"
      ]
    },
    {
      "cell_type": "code",
      "execution_count": null,
      "id": "YgxyC5GnvjJU",
      "metadata": {
        "collapsed": true,
        "id": "YgxyC5GnvjJU",
        "jupyter": {
          "outputs_hidden": true
        },
        "tags": []
      },
      "outputs": [],
      "source": [
        "# !gsutil cp gs://instageo/utils/africa_prediction_template.csv .\n",
        "!mkdir -p inference/2023-06"
      ]
    },
    {
      "cell_type": "markdown",
      "id": "9c30afd0-73ec-4eb1-b9c1-a2d36475eae7",
      "metadata": {
        "id": "9c30afd0-73ec-4eb1-b9c1-a2d36475eae7"
      },
      "source": [
        "**Create Inference Data**\n",
        "\n",
        "For inference, we only need to download the necessary HLS tiles and run inference directly using the sliding window inference feature.\n",
        "\n",
        "If you're running inference across the entire African continent, you can use the `africa_prediction_template.csv`, which will automatically download 2,120 HLS granules covering Africa and parts of Asia.\n",
        "\n",
        "For this demo, we'll limit the scope to the HLS granules included in our test split.\n",
        "\n",
        "Note: Ensure you have approximately 1TB of storage space available for this process if you are running inference across Africa."
      ]
    },
    {
      "cell_type": "code",
      "execution_count": null,
      "id": "8f76b3ea-8ef7-473b-8f2e-72d493fdba03",
      "metadata": {
        "collapsed": true,
        "id": "8f76b3ea-8ef7-473b-8f2e-72d493fdba03",
        "jupyter": {
          "outputs_hidden": true
        },
        "tags": []
      },
      "outputs": [],
      "source": [
        "!python -m \"instageo.data.chip_creator\" \\\n",
        "    --dataframe_path=\"rwanda_cropland_data_test.csv\" \\\n",
        "    --output_directory=\"inference/2023-06\" \\\n",
        "    --min_count=3 \\\n",
        "    --chip_size=256 \\\n",
        "    --temporal_tolerance=3 \\\n",
        "    --temporal_step=30 \\\n",
        "    --num_steps=3 \\\n",
        "    --masking_strategy=any \\\n",
        "    --mask_types=water \\\n",
        "    --window_size=1 \\\n",
        "    --processing_method=download-only"
      ]
    },
    {
      "cell_type": "markdown",
      "id": "65e86341-0717-458f-b061-3e957ce8536d",
      "metadata": {
        "id": "65e86341-0717-458f-b061-3e957ce8536d"
      },
      "source": [
        "**Run Inference**"
      ]
    },
    {
      "cell_type": "markdown",
      "id": "80a510ba",
      "metadata": {
        "id": "80a510ba"
      },
      "source": [
        "Adjust the `checkpoint_path` argument to use the desired model checkpoint."
      ]
    },
    {
      "cell_type": "code",
      "execution_count": null,
      "id": "JJXq8oWNAr1w",
      "metadata": {
        "id": "JJXq8oWNAr1w",
        "tags": []
      },
      "outputs": [],
      "source": [
        "!python -m instageo.model.run --config-name=locust \\\n",
        "    root_dir='inference/2023-06' \\\n",
        "    test_filepath='hls_dataset.json' \\\n",
        "    train.batch_size=16 \\\n",
        "    test.mask_cloud=True \\\n",
        "    checkpoint_path='checkpoint-path' \\\n",
        "    mode=sliding_inference"
      ]
    },
    {
      "cell_type": "markdown",
      "id": "8d79e412-8176-411a-8a73-6068e22a0d25",
      "metadata": {
        "id": "8d79e412-8176-411a-8a73-6068e22a0d25"
      },
      "source": [
        "## InstaGeo - Apps\n",
        "Once inference has been completed on the HLS tiles and the results have been saved, we can use the `InstaGeo-Apps` module to visualize the predictions on an interactive map.\n",
        "\n",
        "To visualize the results, simply move the HLS prediction GeoTIFF files to the appropriate directory, and `InstaGeo-Apps` will handle the rest, providing an intuitive and interactive mapping experience."
      ]
    },
    {
      "cell_type": "code",
      "execution_count": null,
      "id": "8a904882-cde9-40c8-affb-f988892e5183",
      "metadata": {
        "id": "8a904882-cde9-40c8-affb-f988892e5183",
        "tags": []
      },
      "outputs": [],
      "source": [
        "!mkdir -p predictions/2023/6\n",
        "!mv inference/2023-06/predictions/* /content/predictions/2023/6"
      ]
    },
    {
      "cell_type": "code",
      "execution_count": null,
      "id": "tQGnk67MY6Cd",
      "metadata": {
        "id": "tQGnk67MY6Cd",
        "tags": []
      },
      "outputs": [],
      "source": [
        "!npm install localtunnel"
      ]
    },
    {
      "cell_type": "code",
      "execution_count": null,
      "id": "BeJsQzkeBNm7",
      "metadata": {
        "collapsed": true,
        "id": "BeJsQzkeBNm7",
        "jupyter": {
          "outputs_hidden": true
        },
        "tags": []
      },
      "outputs": [],
      "source": [
        "!nohup streamlit run InstaGeo-E2E-Geospatial-ML/instageo/apps/app.py --server.address=localhost &"
      ]
    },
    {
      "cell_type": "markdown",
      "id": "48459844-9277-473b-8cd8-e47691c59c0a",
      "metadata": {
        "id": "48459844-9277-473b-8cd8-e47691c59c0a"
      },
      "source": [
        "Retrieve your IP address which is the password of the localtunnel"
      ]
    },
    {
      "cell_type": "code",
      "execution_count": null,
      "id": "S5rCS-lVZiWe",
      "metadata": {
        "id": "S5rCS-lVZiWe",
        "tags": []
      },
      "outputs": [],
      "source": [
        "import urllib\n",
        "print(\"Password/Endpoint IP for localtunnel is:\",urllib.request.urlopen('https://ipv4.icanhazip.com').read().decode('utf8').strip(\"\\n\"))"
      ]
    },
    {
      "cell_type": "code",
      "execution_count": null,
      "id": "bB61RRBNY-48",
      "metadata": {
        "id": "bB61RRBNY-48",
        "tags": []
      },
      "outputs": [],
      "source": [
        "!npx localtunnel --port 8501"
      ]
    },
    {
      "cell_type": "markdown",
      "id": "9f7d922e",
      "metadata": {
        "id": "9f7d922e"
      },
      "source": [
        "## Summary\n",
        "\n",
        "In this notebook, we demonstrated the end-to-end capabilities of InstaGeo for geospatial machine learning using multispectral data. We began by downloading and processing HLS granules, creating data chips for training, and fine-tuning a model with the Prithvi backbone. Finally, we ran inference on test data and visualized the results using the `InstaGeo-Apps` module.\n",
        "\n",
        "By leveraging InstaGeo, complex tasks such as data preprocessing, model training, and large-scale inference can be streamlined and efficiently handled with minimal configuration.\n",
        "\n",
        "If you found this demo helpful, please consider giving our [InstaGeo GitHub repository](https://github.com/instadeepai/InstaGeo-E2E-Geospatial-ML) a star ⭐! Your support helps us continue improving the tool for the community.\n",
        "\n",
        "Thank you for exploring InstaGeo with us!"
      ]
    },
    {
      "cell_type": "markdown",
      "id": "316908ce",
      "metadata": {
        "id": "316908ce"
      },
      "source": []
    }
  ],
  "metadata": {
    "accelerator": "GPU",
    "colab": {
      "gpuType": "T4",
      "provenance": []
    },
    "environment": {
      "kernel": "python3",
      "name": "tf2-cpu.2-11.m115",
      "type": "gcloud",
      "uri": "gcr.io/deeplearning-platform-release/tf2-cpu.2-11:m115"
    },
    "kernelspec": {
      "display_name": "Python 3",
      "language": "python",
      "name": "python3"
    },
    "language_info": {
      "codemirror_mode": {
        "name": "ipython",
        "version": 3
      },
      "file_extension": ".py",
      "mimetype": "text/x-python",
      "name": "python",
      "nbconvert_exporter": "python",
      "pygments_lexer": "ipython3",
      "version": "3.10.14"
    }
  },
  "nbformat": 4,
  "nbformat_minor": 5
}